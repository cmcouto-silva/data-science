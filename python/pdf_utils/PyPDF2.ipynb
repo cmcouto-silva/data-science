{
 "cells": [
  {
   "cell_type": "markdown",
   "metadata": {},
   "source": [
    "# Settings"
   ]
  },
  {
   "cell_type": "code",
   "execution_count": 11,
   "metadata": {},
   "outputs": [],
   "source": [
    "from PyPDF2 import PdfReader, PdfWriter"
   ]
  },
  {
   "cell_type": "markdown",
   "metadata": {},
   "source": [
    "# Library showcase"
   ]
  },
  {
   "cell_type": "markdown",
   "metadata": {},
   "source": [
    "### Read pdf file & metadata"
   ]
  },
  {
   "cell_type": "code",
   "execution_count": 10,
   "metadata": {},
   "outputs": [
    {
     "name": "stdout",
     "output_type": "stream",
     "text": [
      "{'/Author': 'Holly Gibbs', '/Creator': 'Microsoft Word', '/CreationDate': \"D:20240215214715+00'00'\", '/ModDate': \"D:20240215214715+00'00'\"}\n"
     ]
    }
   ],
   "source": [
    "pdf_path = '../../data/GLUE_Software_Developer_2024.pdf'\n",
    "reader = PdfReader(pdf_path)\n",
    "print(reader.metadata)"
   ]
  },
  {
   "cell_type": "markdown",
   "metadata": {},
   "source": [
    "## Extract text from the pdf file"
   ]
  },
  {
   "cell_type": "code",
   "execution_count": 23,
   "metadata": {},
   "outputs": [],
   "source": [
    "reader = PdfReader(pdf_path)\n",
    "pages_content = {f'page_{i}': page.extract_text().strip() for i,page in enumerate(reader.pages, start=1)}"
   ]
  },
  {
   "cell_type": "markdown",
   "metadata": {},
   "source": [
    "## Split pdf into individal pages"
   ]
  },
  {
   "cell_type": "code",
   "execution_count": null,
   "metadata": {},
   "outputs": [],
   "source": [
    "from PyPDF2 import PdfReader, PdfWriter\n",
    "\n",
    "# Specify the path to your PDF file\n",
    "pdf_path = 'path_to_your_pdf_file.pdf'\n",
    "\n",
    "# Open the PDF file\n",
    "reader = PdfReader(pdf_path)\n",
    "\n",
    "# Loop through each page in the PDF\n",
    "for i, page in enumerate(reader.pages, start=1):\n",
    "    writer = PdfWriter()  # Create a new PdfWriter object for each page\n",
    "    writer.add_page(page)  # Add the current page to the writer object\n",
    "    \n",
    "    # Specify the output filename for the current page\n",
    "    output_filename = f'page_{i}.pdf'\n",
    "    \n",
    "    # Write the page to a new PDF file\n",
    "    with open(output_filename, 'wb') as output_pdf:\n",
    "        writer.write(output_pdf)\n",
    "    \n",
    "    print(f'Created: {output_filename}')\n"
   ]
  },
  {
   "cell_type": "markdown",
   "metadata": {},
   "source": [
    "## Merging pdf files"
   ]
  },
  {
   "cell_type": "code",
   "execution_count": null,
   "metadata": {},
   "outputs": [],
   "source": [
    "# Create a PDF writer instance\n",
    "writer = PdfWriter()\n",
    "\n",
    "# Open the first PDF and add its pages\n",
    "reader1 = PdfReader(\"document1.pdf\")\n",
    "for page in reader1.pages:\n",
    "    writer.add_page(page)\n",
    "\n",
    "# Open the second PDF and add its pages\n",
    "reader2 = PdfReader(\"document2.pdf\")\n",
    "for page in reader2.pages:\n",
    "    writer.add_page(page)\n",
    "\n",
    "# Write out the merged PDF\n",
    "with open(\"merged_document.pdf\", \"wb\") as out:\n",
    "    writer.write(out)"
   ]
  },
  {
   "cell_type": "markdown",
   "metadata": {},
   "source": [
    "## Rotate pages"
   ]
  },
  {
   "cell_type": "code",
   "execution_count": null,
   "metadata": {},
   "outputs": [],
   "source": [
    "# Specify the path to your PDF file\n",
    "pdf_path = 'path_to_your_pdf_file.pdf'\n",
    "\n",
    "# Open the PDF file\n",
    "reader = PdfReader(pdf_path)\n",
    "\n",
    "# Create a PDF writer object for the output PDF\n",
    "writer = PdfWriter()\n",
    "\n",
    "# Loop through each page in the PDF\n",
    "for page in reader.pages:\n",
    "    # Rotate the page by 90 degrees\n",
    "    page.rotate_clockwise(90)\n",
    "    # Add the rotated page to the writer object\n",
    "    writer.add_page(page)\n",
    "\n",
    "# Specify the output filename\n",
    "output_pdf_path = 'rotated_pdf_file.pdf'\n",
    "\n",
    "# Write the output PDF to a file\n",
    "with open(output_pdf_path, 'wb') as output_pdf:\n",
    "    writer.write(output_pdf)\n",
    "\n",
    "print(f'Rotated PDF saved as: {output_pdf_path}')"
   ]
  },
  {
   "cell_type": "markdown",
   "metadata": {},
   "source": [
    "## Cropping Pages"
   ]
  },
  {
   "cell_type": "code",
   "execution_count": 13,
   "metadata": {},
   "outputs": [
    {
     "name": "stdout",
     "output_type": "stream",
     "text": [
      "Cropped PDF saved as: cropped_pdf_file.pdf\n"
     ]
    }
   ],
   "source": [
    "# Specify the path to your PDF file\n",
    "pdf_path = 'path_to_your_pdf_file.pdf'\n",
    "pdf_path = '../../data/GLUE_Software_Developer_2024.pdf'\n",
    "\n",
    "# Open the PDF file\n",
    "reader = PdfReader(pdf_path)\n",
    "\n",
    "# Create a PDF writer object for the output PDF\n",
    "writer = PdfWriter()\n",
    "\n",
    "# Define the coordinates of the lower left and upper right corners of the new crop box\n",
    "# These values should be in points (1 point = 1/72 inch)\n",
    "x0, y0, x1, y1 = 50, 50, 400, 600\n",
    "\n",
    "# Loop through each page in the PDF\n",
    "for page in reader.pages:\n",
    "    # Update the page's crop box\n",
    "    page.cropbox.lower_left = (x0, y0)\n",
    "    page.cropbox.upper_right = (x1, y1)\n",
    "    # Add the cropped page to the writer object\n",
    "    writer.add_page(page)\n",
    "\n",
    "# Specify the output filename\n",
    "output_pdf_path = 'cropped_pdf_file.pdf'\n",
    "\n",
    "# Write the output PDF to a file\n",
    "with open(output_pdf_path, 'wb') as output_pdf:\n",
    "    writer.write(output_pdf)\n",
    "\n",
    "print(f'Cropped PDF saved as: {output_pdf_path}')\n"
   ]
  },
  {
   "cell_type": "markdown",
   "metadata": {},
   "source": [
    "## Add bounding boxes to the pdf"
   ]
  },
  {
   "cell_type": "code",
   "execution_count": 28,
   "metadata": {},
   "outputs": [],
   "source": [
    "from reportlab.pdfgen import canvas\n",
    "\n",
    "def create_bounding_box_pdf(output_path, box_coords, page_size):\n",
    "    \"\"\"\n",
    "    Creates a PDF with a bounding box.\n",
    "    Args:\n",
    "    - output_path: Path to save the overlay PDF.\n",
    "    - box_coords: A tuple of (x0, y0, x1, y1) for the bounding box.\n",
    "    - page_size: A tuple of (width, height) for the page size.\n",
    "    \"\"\"\n",
    "    c = canvas.Canvas(output_path, pagesize=page_size)\n",
    "    c.setStrokeColorRGB(1, 0, 0)  # Set the bounding box color to red\n",
    "    c.setLineWidth(2)  # Set the bounding box line width\n",
    "    c.rect(*box_coords)  # Draw the bounding box\n",
    "    c.save()\n",
    "\n",
    "# Example usage\n",
    "create_bounding_box_pdf('bounding_box_overlay.pdf', (0, 0, 612, 792), (612, 792)) # Page size here is 8.5 x 11 inches in points\n"
   ]
  },
  {
   "cell_type": "code",
   "execution_count": 29,
   "metadata": {},
   "outputs": [
    {
     "name": "stdout",
     "output_type": "stream",
     "text": [
      "Output PDF with bounding box saved as: output_with_bounding_box.pdf\n"
     ]
    }
   ],
   "source": [
    "# Paths to your original PDF and the overlay PDF\n",
    "original_pdf_path = 'path_to_your_original_pdf.pdf'\n",
    "overlay_pdf_path = 'bounding_box_overlay.pdf'\n",
    "\n",
    "# Create a reader for the original and overlay PDFs\n",
    "original_pdf = PdfReader(original_pdf_path)\n",
    "overlay_pdf = PdfReader(overlay_pdf_path)\n",
    "\n",
    "# Create a writer for the output PDF\n",
    "writer = PdfWriter()\n",
    "\n",
    "# Assuming you want to add the bounding box to the first page\n",
    "page = original_pdf.pages[0]\n",
    "overlay_page = overlay_pdf.pages[0]\n",
    "\n",
    "# Merge the overlay onto the original page\n",
    "page.merge_page(overlay_page)\n",
    "\n",
    "# Add the modified page to the writer, and the rest of the pages from the original PDF\n",
    "writer.add_page(page)\n",
    "for i in range(1, len(original_pdf.pages)):\n",
    "    writer.add_page(original_pdf.pages[i])\n",
    "\n",
    "# Write to a new file\n",
    "output_pdf_path = 'output_with_bounding_box.pdf'\n",
    "with open(output_pdf_path, 'wb') as output_file:\n",
    "    writer.write(output_file)\n",
    "\n",
    "print(f'Output PDF with bounding box saved as: {output_pdf_path}')"
   ]
  },
  {
   "cell_type": "markdown",
   "metadata": {},
   "source": [
    "## Add watermark"
   ]
  },
  {
   "cell_type": "code",
   "execution_count": null,
   "metadata": {},
   "outputs": [],
   "source": [
    "from PyPDF2 import PdfReader, PdfWriter\n",
    "\n",
    "def add_watermark(input_pdf_path, watermark_pdf_path, output_pdf_path):\n",
    "    # Create a PDF reader object for the input and watermark PDFs\n",
    "    input_pdf = PdfReader(input_pdf_path)\n",
    "    watermark_pdf = PdfReader(watermark_pdf_path)\n",
    "    watermark_page = watermark_pdf.pages[0]\n",
    "    \n",
    "    # Create a PDF writer object for the output PDF\n",
    "    writer = PdfWriter()\n",
    "    \n",
    "    # Iterate through the input PDF pages\n",
    "    for page in input_pdf.pages:\n",
    "        # Merge the watermark with the page\n",
    "        page.merge_page(watermark_page)\n",
    "        # Add the page to the writer object\n",
    "        writer.add_page(page)\n",
    "    \n",
    "    # Write the watermarked PDF to a file\n",
    "    with open(output_pdf_path, 'wb') as output_pdf:\n",
    "        writer.write(output_pdf)\n",
    "\n",
    "# Specify your PDF paths\n",
    "input_pdf_path = 'path_to_your_document.pdf'\n",
    "watermark_pdf_path = 'watermark.pdf'\n",
    "output_pdf_path = 'document_with_watermark.pdf'\n",
    "\n",
    "# Add watermark\n",
    "add_watermark(input_pdf_path, watermark_pdf_path, output_pdf_path)\n",
    "\n",
    "print(\"Watermark added successfully.\")"
   ]
  }
 ],
 "metadata": {
  "kernelspec": {
   "display_name": ".venv",
   "language": "python",
   "name": "python3"
  },
  "language_info": {
   "codemirror_mode": {
    "name": "ipython",
    "version": 3
   },
   "file_extension": ".py",
   "mimetype": "text/x-python",
   "name": "python",
   "nbconvert_exporter": "python",
   "pygments_lexer": "ipython3",
   "version": "3.11.5"
  }
 },
 "nbformat": 4,
 "nbformat_minor": 2
}
