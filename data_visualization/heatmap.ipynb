{
 "cells": [
  {
   "cell_type": "code",
   "execution_count": null,
   "metadata": {},
   "outputs": [],
   "source": [
    "import pandas as pd\n",
    "\n",
    "import seaborn as sns\n",
    "import matplotlib.pyplot as plt"
   ]
  },
  {
   "cell_type": "code",
   "execution_count": null,
   "metadata": {},
   "outputs": [],
   "source": [
    "# Correlation\n",
    "dfc = df_eda.drop(columns=drop_columns).corr(method='spearman')\n",
    "\n",
    "# Plot\n",
    "plt.figure(figsize=(21,16))\n",
    "\n",
    "mask = np.zeros(dfc.shape).astype(bool)\n",
    "mask[np.triu_indices_from(mask)] = True\n",
    "\n",
    "# Show only significant correlations given target threshold\n",
    "mask = mask | (dfc.abs() < 0.3).values\n",
    "\n",
    "ax = sns.heatmap(\n",
    "    dfc, cmap='RdBu_r', mask=mask, square=False, center=0, vmin=-1, vmax=1, linewidths=1,\n",
    "    annot=False, fmt=\".2f\", annot_kws={\"fontsize\":\"small\"},\n",
    "    cbar=True, cbar_kws={'orientation':'vertical', 'shrink': .5}\n",
    ")\n",
    "\n",
    "# ax.set_xticks(np.arange(dfc.shape[1]) + 0.5, minor=False)\n",
    "# ax.set_yticks(np.arange(dfc.shape[0]) + 0.5, minor=False)\n",
    "\n",
    "# ax.set_xticklabels(ax.get_xticklabels())\n",
    "# ax.tick_params(axis='both', which='both', labelsize=8)\n",
    "\n",
    "plt.xticks(fontsize='small')\n",
    "plt.yticks(fontsize='small') \n",
    "\n",
    "plt.show()"
   ]
  }
 ],
 "metadata": {
  "language_info": {
   "name": "python"
  },
  "orig_nbformat": 4
 },
 "nbformat": 4,
 "nbformat_minor": 2
}
