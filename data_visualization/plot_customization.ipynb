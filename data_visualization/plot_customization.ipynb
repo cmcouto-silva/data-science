{
 "cells": [
  {
   "cell_type": "code",
   "execution_count": null,
   "metadata": {},
   "outputs": [],
   "source": [
    "import seaborn as sns"
   ]
  },
  {
   "cell_type": "code",
   "execution_count": null,
   "metadata": {},
   "outputs": [],
   "source": [
    "# See all possibilites at https://matplotlib.org/stable/users/explain/customizing.html\n",
    "sns.set_theme(\n",
    "    context='talk', style='ticks', palette='viridis', font_scale=1,\n",
    "    rc={\n",
    "      'figure.figsize': (15,6),\n",
    "      'font.weight': 'regular', 'axes.labelpad': 15, 'axes.titlepad': 30,\n",
    "      'ytick.labelsize': 'small', 'xtick.labelsize': 'small',\n",
    "      'axes.grid':True, 'grid.alpha':.2\n",
    "    }\n",
    ")"
   ]
  }
 ],
 "metadata": {
  "language_info": {
   "name": "python"
  },
  "orig_nbformat": 4
 },
 "nbformat": 4,
 "nbformat_minor": 2
}
