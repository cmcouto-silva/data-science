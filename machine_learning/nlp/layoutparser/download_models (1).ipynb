{
 "cells": [
  {
   "cell_type": "code",
   "execution_count": 1,
   "id": "64eca0b6-bac7-4f95-b5e3-17ff78942df7",
   "metadata": {
    "tags": []
   },
   "outputs": [],
   "source": [
    "# # Create config file\n",
    "# import json\n",
    "\n",
    "# model_configs = dict(\n",
    "    \n",
    "#     HJDataset = dict(\n",
    "#         faster_rcnn_R_50_FPN_3x = 'https://www.dropbox.com/s/j4yseny2u0hn22r/config.yml?dl=1',\n",
    "#         mask_rcnn_R_50_FPN_3x =  'https://www.dropbox.com/s/4jmr3xanmxmjcf8/config.yml?dl=1',\n",
    "#         retinanet_R_50_FPN_3x = 'https://www.dropbox.com/s/z8a8ywozuyc5c2x/config.yml?dl=1',\n",
    "#     ),\n",
    "#     PubLayNet = dict(\n",
    "#         faster_rcnn_R_50_FPN_3x = 'https://www.dropbox.com/s/f3b12qc4hc0yh4m/config.yml?dl=1',\n",
    "#         mask_rcnn_R_50_FPN_3x = 'https://www.dropbox.com/s/u9wbsfwz4y0ziki/config.yml?dl=1',\n",
    "#         mask_rcnn_X_101_32x8d_FPN_3x = 'https://www.dropbox.com/s/nau5ut6zgthunil/config.yaml?dl=1',\n",
    "#     ),\n",
    "#     PrimaLayout = dict(\n",
    "#         mask_rcnn_R_50_FPN_3x = 'https://www.dropbox.com/s/yc92x97k50abynt/config.yaml?dl=1',\n",
    "#     ),\n",
    "#     NewspaperNavigator = dict(\n",
    "#         faster_rcnn_R_50_FPN_3x = 'https://www.dropbox.com/s/wnido8pk4oubyzr/config.yml?dl=1',\n",
    "#     ),\n",
    "#     TableBank = dict(\n",
    "#         faster_rcnn_R_50_FPN_3x = 'https://www.dropbox.com/s/7cqle02do7ah7k4/config.yaml?dl=1',\n",
    "#         faster_rcnn_R_101_FPN_3x = 'https://www.dropbox.com/s/h63n6nv51kfl923/config.yaml?dl=1',\n",
    "#     ),\n",
    "#     MFD_faster = dict(\n",
    "#         faster_rcnn_R_50_FPN_3x = 'https://www.dropbox.com/s/ld9izb95f19369w/config.yaml?dl=1'\n",
    "#     )\n",
    "# )\n",
    "\n",
    "# with open('model_and_configs/model_configs.json', 'w') as config_references:\n",
    "#     json.dump(model_configs, config_references, indent=4)"
   ]
  },
  {
   "cell_type": "code",
   "execution_count": 2,
   "id": "7ae6e061-29da-48eb-b141-30bfda9763b9",
   "metadata": {
    "tags": []
   },
   "outputs": [],
   "source": [
    "import os\n",
    "import yaml\n",
    "import json"
   ]
  },
  {
   "cell_type": "code",
   "execution_count": 3,
   "id": "1658beb5-1920-4247-86ee-36ce332a7c36",
   "metadata": {
    "tags": []
   },
   "outputs": [],
   "source": [
    "# Load config file\n",
    "with open('model_and_configs/model_configs.json') as config_references:\n",
    "    model_configs = json.load(config_references)"
   ]
  },
  {
   "cell_type": "code",
   "execution_count": 4,
   "id": "5f2da645-ecbd-4a3a-a8fe-4b8d6e0a54e1",
   "metadata": {
    "tags": []
   },
   "outputs": [],
   "source": [
    "def download_models(model_configs: dict, output_folder: str, target_datasets: list=None, overwrite: bool=False):\n",
    "    \"\"\"Download layout parser models\"\"\"\n",
    "\n",
    "    # Keep only target models (all if target_datasets is None)\n",
    "    if target_datasets:\n",
    "        model_configs = {dataset: models for dataset,models in model_configs.items() if dataset in target_datasets}\n",
    "    \n",
    "    for dataset, models in model_configs.items():\n",
    "\n",
    "        print(f'Dataset {dataset}:')\n",
    "\n",
    "        for model_name,config_path in models.items():\n",
    "\n",
    "            # Create model folder under output_folder\n",
    "            os.makedirs(os.path.join(output_folder, dataset, model_name), exist_ok=True)\n",
    "\n",
    "            # Set output paths for config and model files\n",
    "            output_config_path = os.path.join(output_folder, dataset, model_name, 'config.yml')\n",
    "            output_model_path = os.path.join(output_folder, dataset, model_name, 'model_final.pth')\n",
    "\n",
    "            # Check if model exists\n",
    "            if os.path.exists(output_config_path) & os.path.exists(output_model_path) & (not overwrite):\n",
    "                continue\n",
    "\n",
    "            # Print model\n",
    "            print(f'• Downloading model {model_name}...')\n",
    "\n",
    "            # Download config file\n",
    "            os.system(f'wget {config_path} -O {output_config_path}')\n",
    "\n",
    "            # Extract online path to model weights\n",
    "            with open(output_config_path) as config_file:\n",
    "                config_content = yaml.unsafe_load(config_file)\n",
    "                model_path = config_content['MODEL']['WEIGHTS']\n",
    "\n",
    "            # Download model weights \n",
    "            os.system(f'wget {model_path} -O {output_model_path}')\n",
    "\n",
    "            # Update model weights' path\n",
    "            config_content['MODEL']['WEIGHTS'] = output_model_path\n",
    "            with open(output_config_path, 'w') as config_file:\n",
    "                yaml.dump(config_content, config_file)\n",
    "\n",
    "        print('Downloaded!')\n",
    "        print()"
   ]
  },
  {
   "cell_type": "code",
   "execution_count": 5,
   "id": "74713631-1b36-4b7c-9523-8fcd927a4058",
   "metadata": {},
   "outputs": [
    {
     "name": "stdout",
     "output_type": "stream",
     "text": [
      "Dataset PubLayNet:\n",
      "Downloaded!\n",
      "\n",
      "Dataset PrimaLayout:\n",
      "Downloaded!\n",
      "\n",
      "Dataset TableBank:\n",
      "Downloaded!\n",
      "\n"
     ]
    }
   ],
   "source": [
    "download_models(\n",
    "    model_configs = model_configs,\n",
    "    output_folder = './model_and_configs',\n",
    "    target_datasets = ['PrimaLayout', 'PubLayNet', 'TableBank'],\n",
    "    overwrite = False\n",
    ")"
   ]
  },
  {
   "cell_type": "code",
   "execution_count": null,
   "id": "eb9928e5-1fd6-4b97-bd08-8ee45fce09c5",
   "metadata": {},
   "outputs": [],
   "source": []
  }
 ],
 "metadata": {
  "environment": {
   "kernel": "python3",
   "name": ".m118",
   "type": "gcloud",
   "uri": "us-docker.pkg.dev/deeplearning-platform-release/gcr.io/:m118"
  },
  "kernelspec": {
   "display_name": "Python 3 (Local)",
   "language": "python",
   "name": "python3"
  },
  "language_info": {
   "codemirror_mode": {
    "name": "ipython",
    "version": 3
   },
   "file_extension": ".py",
   "mimetype": "text/x-python",
   "name": "python",
   "nbconvert_exporter": "python",
   "pygments_lexer": "ipython3",
   "version": "3.10.13"
  }
 },
 "nbformat": 4,
 "nbformat_minor": 5
}
