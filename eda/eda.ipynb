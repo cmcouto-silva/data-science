{
 "cells": [
  {
   "cell_type": "code",
   "execution_count": null,
   "metadata": {},
   "outputs": [],
   "source": [
    "import numpy as np\n",
    "import pandas as pd"
   ]
  },
  {
   "cell_type": "code",
   "execution_count": null,
   "metadata": {},
   "outputs": [],
   "source": [
    "# General EDA\n",
    "\n",
    "def calculate_missing(df: pd.DataFrame, show_only_missing: bool = True, format_pct: bool = True):\n",
    "    \"\"\"Description\"\"\"\n",
    "    df_missing = (\n",
    "        df.isna().sum()\n",
    "        .sort_values(ascending=False)\n",
    "        .to_frame('missing_count')\n",
    "        .assign(missing_pct = lambda x: x / len(df))\n",
    "        .rename_axis('feature')\n",
    "    )\n",
    "    \n",
    "    if show_only_missing:\n",
    "        df_missing = df_missing.query('missing_count>0')\n",
    "    \n",
    "    if format_pct:\n",
    "        df_missing = df_missing.style.format('{:.2%}', subset='missing_pct')\n",
    "    \n",
    "    return df_missing\n",
    "\n",
    "\n",
    "def compute_counts(df, col, by=None):\n",
    "    if by:\n",
    "        grp = df.groupby(by)\n",
    "        abs_count = grp[col].value_counts(normalize=False).to_frame('abs_count')\n",
    "        rel_count = grp[col].value_counts(normalize=True).to_frame('rel_count')\n",
    "        df_counts = pd.concat([abs_count, rel_count], axis=1)\n",
    "    else:\n",
    "        abs_count = df[col].value_counts(normalize=False).to_frame('abs_count')\n",
    "        rel_count = df[col].value_counts(normalize=True).to_frame('rel_count')\n",
    "        df_counts = pd.concat([abs_count, rel_count], axis=1)\n",
    "    return df_counts"
   ]
  },
  {
   "cell_type": "code",
   "execution_count": 1,
   "metadata": {},
   "outputs": [],
   "source": [
    "# Association analysis\n",
    "\n",
    "def cramers_v(x, y, bias_correction=True):\n",
    "    \"\"\"\n",
    "    Compute Cramer's V statistic for measuring association between two categorical variables.\n",
    "\n",
    "    Parameters:\n",
    "    - x, y: two lists/arrays of categorical data\n",
    "    - bias_correction: whether to apply bias correction, default is True\n",
    "\n",
    "    Returns:\n",
    "    - Cramer's V value\n",
    "    \"\"\"\n",
    "    contingency_table = pd.crosstab(x, y)\n",
    "    chi2 = chi2_contingency(contingency_table)[0]\n",
    "    n = contingency_table.sum().sum()\n",
    "    r, k = contingency_table.shape\n",
    "\n",
    "    if bias_correction:\n",
    "        phi2 = chi2 / n\n",
    "        phi2corr = max(0, phi2 - ((k-1)*(r-1)) / (n-1))\n",
    "        rcorr = r - ((r-1)**2) / (n-1)\n",
    "        kcorr = k - ((k-1)**2) / (n-1)\n",
    "        return np.sqrt(phi2corr / min((kcorr-1), (rcorr-1)))\n",
    "    else:\n",
    "        return np.sqrt(chi2 / (n * min(k-1, r-1)))\n"
   ]
  }
 ],
 "metadata": {
  "kernelspec": {
   "display_name": "base",
   "language": "python",
   "name": "python3"
  },
  "language_info": {
   "codemirror_mode": {
    "name": "ipython",
    "version": 3
   },
   "file_extension": ".py",
   "mimetype": "text/x-python",
   "name": "python",
   "nbconvert_exporter": "python",
   "pygments_lexer": "ipython3",
   "version": "3.10.9"
  },
  "orig_nbformat": 4
 },
 "nbformat": 4,
 "nbformat_minor": 2
}
