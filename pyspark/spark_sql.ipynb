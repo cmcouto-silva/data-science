{
 "cells": [
  {
   "cell_type": "markdown",
   "metadata": {
    "id": "20HddzzXyxY_"
   },
   "source": [
    "# Overview"
   ]
  },
  {
   "cell_type": "markdown",
   "metadata": {
    "id": "bN5iqyLJy1Qd"
   },
   "source": [
    "Nesta revisão, focaremos no sistema Spark SQL.\n",
    "\n",
    "![Apache Spark Eco System](https://sparkbyexamples.com/wp-content/uploads/2020/02/spark-components-1.jpg)\n",
    "\n",
    "Para referência completa de todas funcionalidades do Spark SQL, vide a [documentação oficial](https://spark.apache.org/docs/3.1.1/api/python/reference/pyspark.sql.html#core-classes).\n",
    "\n",
    "Para tutoriais e exemplos práticos, vide site [Spark by examples](https://sparkbyexamples.com/)."
   ]
  },
  {
   "cell_type": "markdown",
   "metadata": {
    "id": "6kQXgVUDm36y"
   },
   "source": [
    "# **SETUP**"
   ]
  },
  {
   "cell_type": "markdown",
   "metadata": {
    "id": "hjE_B03_m9Rt"
   },
   "source": [
    "## Spark UI"
   ]
  },
  {
   "cell_type": "code",
   "execution_count": 1,
   "metadata": {
    "colab": {
     "base_uri": "https://localhost:8080/"
    },
    "executionInfo": {
     "elapsed": 65153,
     "status": "ok",
     "timestamp": 1660199470291,
     "user": {
      "displayName": "Cainã Max Couto-Silva",
      "userId": "10965485795191366596"
     },
     "user_tz": 180
    },
    "id": "LxWd0qTjmraa",
    "outputId": "c139462f-17df-4760-abbb-b7b848d2eebc"
   },
   "outputs": [
    {
     "name": "stdout",
     "output_type": "stream",
     "text": [
      "\u001b[K     |████████████████████████████████| 745 kB 4.0 MB/s eta 0:00:01\n",
      "\u001b[?25h  Building wheel for pyngrok (setup.py) ... \u001b[?25l\u001b[?25hdone\n",
      "\u001b[K     |████████████████████████████████| 281.3 MB 44 kB/s \n",
      "\u001b[K     |████████████████████████████████| 199 kB 59.6 MB/s \n",
      "\u001b[?25h  Building wheel for pyspark (setup.py) ... \u001b[?25l\u001b[?25hdone\n"
     ]
    }
   ],
   "source": [
    "!pip install -q pyngrok\n",
    "!pip install -q pyspark"
   ]
  },
  {
   "cell_type": "code",
   "execution_count": 2,
   "metadata": {
    "colab": {
     "base_uri": "https://localhost:8080/",
     "height": 219
    },
    "executionInfo": {
     "elapsed": 13930,
     "status": "ok",
     "timestamp": 1660199484212,
     "user": {
      "displayName": "Cainã Max Couto-Silva",
      "userId": "10965485795191366596"
     },
     "user_tz": 180
    },
    "id": "R3ZdnLL5e2ks",
    "outputId": "7b0b97a0-7d02-4227-9a3e-289423ca4eed"
   },
   "outputs": [
    {
     "data": {
      "text/html": [
       "\n",
       "            <div>\n",
       "                <p><b>SparkSession - in-memory</b></p>\n",
       "                \n",
       "        <div>\n",
       "            <p><b>SparkContext</b></p>\n",
       "\n",
       "            <p><a href=\"http://1c0b9422f932:4050\">Spark UI</a></p>\n",
       "\n",
       "            <dl>\n",
       "              <dt>Version</dt>\n",
       "                <dd><code>v3.3.0</code></dd>\n",
       "              <dt>Master</dt>\n",
       "                <dd><code>local[*]</code></dd>\n",
       "              <dt>AppName</dt>\n",
       "                <dd><code>pyspark-shell</code></dd>\n",
       "            </dl>\n",
       "        </div>\n",
       "        \n",
       "            </div>\n",
       "        "
      ],
      "text/plain": [
       "<pyspark.sql.session.SparkSession at 0x7fc8a231d910>"
      ]
     },
     "execution_count": 2,
     "metadata": {},
     "output_type": "execute_result"
    }
   ],
   "source": [
    "from pyspark.sql import SparkSession\n",
    "spark = SparkSession.builder.config('spark.ui.port', '4050').getOrCreate()\n",
    "spark"
   ]
  },
  {
   "cell_type": "code",
   "execution_count": 3,
   "metadata": {
    "executionInfo": {
     "elapsed": 11,
     "status": "ok",
     "timestamp": 1660199484213,
     "user": {
      "displayName": "Cainã Max Couto-Silva",
      "userId": "10965485795191366596"
     },
     "user_tz": 180
    },
    "id": "VK5ksALRlODl"
   },
   "outputs": [],
   "source": [
    "# Fazer login no site https://dashboard.ngrok.com/get-started/setup para obter autenticação própria\n",
    "ngrok_token = '27WqUGZ1SkzPl4bQunMXJyasbWZ_5pCgLCsppL7ufk9rzK7j4'"
   ]
  },
  {
   "cell_type": "code",
   "execution_count": 4,
   "metadata": {
    "colab": {
     "base_uri": "https://localhost:8080/"
    },
    "executionInfo": {
     "elapsed": 4592,
     "status": "ok",
     "timestamp": 1660199488795,
     "user": {
      "displayName": "Cainã Max Couto-Silva",
      "userId": "10965485795191366596"
     },
     "user_tz": 180
    },
    "id": "gKPmX_f1gV7C",
    "outputId": "faecdadf-6c80-46c4-8779-b73b793270ae"
   },
   "outputs": [
    {
     "name": "stdout",
     "output_type": "stream",
     "text": [
      "URL para interface Spark:\n",
      "https://43b8-34-74-39-250.ngrok.io\n"
     ]
    }
   ],
   "source": [
    "get_ipython().system_raw(f'ngrok authtoken {ngrok_token}')\n",
    "get_ipython().system_raw('ngrok http 4050 &')\n",
    "!sleep 3\n",
    "print('URL para interface Spark:')\n",
    "!curl -s http://localhost:4040/api/tunnels | grep -Po 'public_url\":\"(?=https)\\K[^\"]*'"
   ]
  },
  {
   "cell_type": "markdown",
   "metadata": {
    "id": "3hm3CvMdn3Jd"
   },
   "source": [
    "## Libraries"
   ]
  },
  {
   "cell_type": "code",
   "execution_count": 5,
   "metadata": {
    "executionInfo": {
     "elapsed": 665,
     "status": "ok",
     "timestamp": 1660199489451,
     "user": {
      "displayName": "Cainã Max Couto-Silva",
      "userId": "10965485795191366596"
     },
     "user_tz": 180
    },
    "id": "Yi82wbeZn2jT"
   },
   "outputs": [],
   "source": [
    "import pandas as pd\n",
    "from google.colab import files\n",
    "\n",
    "import pyspark.sql.functions as F\n",
    "from pyspark.sql.window import Window\n",
    "from pyspark.sql.types import StructType, StructField, StringType, IntegerType, DoubleType, DateType"
   ]
  },
  {
   "cell_type": "markdown",
   "metadata": {
    "id": "D6PpCkDmnjOv"
   },
   "source": [
    "## Load data"
   ]
  },
  {
   "cell_type": "code",
   "execution_count": 6,
   "metadata": {
    "colab": {
     "base_uri": "https://localhost:8080/",
     "height": 73,
     "resources": {
      "http://localhost:8080/nbextensions/google.colab/files.js": {
       "data": "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",
       "headers": [
        [
         "content-type",
         "application/javascript"
        ]
       ],
       "ok": true,
       "status": 200,
       "status_text": ""
      }
     }
    },
    "executionInfo": {
     "elapsed": 12371,
     "status": "ok",
     "timestamp": 1660199501811,
     "user": {
      "displayName": "Cainã Max Couto-Silva",
      "userId": "10965485795191366596"
     },
     "user_tz": 180
    },
    "id": "Ii3CgQUVlbnq",
    "outputId": "84a7be02-1ce3-49d4-eec5-74b3bed13411"
   },
   "outputs": [
    {
     "data": {
      "text/html": [
       "\n",
       "     <input type=\"file\" id=\"files-4624af48-d2be-4352-8a9a-1ab3954a3915\" name=\"files[]\" multiple disabled\n",
       "        style=\"border:none\" />\n",
       "     <output id=\"result-4624af48-d2be-4352-8a9a-1ab3954a3915\">\n",
       "      Upload widget is only available when the cell has been executed in the\n",
       "      current browser session. Please rerun this cell to enable.\n",
       "      </output>\n",
       "      <script src=\"/nbextensions/google.colab/files.js\"></script> "
      ],
      "text/plain": [
       "<IPython.core.display.HTML object>"
      ]
     },
     "metadata": {},
     "output_type": "display_data"
    },
    {
     "name": "stdout",
     "output_type": "stream",
     "text": [
      "Saving unicorn_companies.csv to unicorn_companies.csv\n"
     ]
    }
   ],
   "source": [
    "# Load unicorn_companies.csv\n",
    "_ = files.upload()"
   ]
  },
  {
   "cell_type": "code",
   "execution_count": 7,
   "metadata": {
    "colab": {
     "base_uri": "https://localhost:8080/",
     "height": 73,
     "resources": {
      "http://localhost:8080/nbextensions/google.colab/files.js": {
       "data": "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",
       "headers": [
        [
         "content-type",
         "application/javascript"
        ]
       ],
       "ok": true,
       "status": 200,
       "status_text": ""
      }
     }
    },
    "executionInfo": {
     "elapsed": 6498,
     "status": "ok",
     "timestamp": 1660199514238,
     "user": {
      "displayName": "Cainã Max Couto-Silva",
      "userId": "10965485795191366596"
     },
     "user_tz": 180
    },
    "id": "4eBfIZuB9nQt",
    "outputId": "aae142f8-ff43-4c6b-ef62-eb2c54a312c8"
   },
   "outputs": [
    {
     "data": {
      "text/html": [
       "\n",
       "     <input type=\"file\" id=\"files-2078ad0c-7184-4478-ba3c-817748e07eff\" name=\"files[]\" multiple disabled\n",
       "        style=\"border:none\" />\n",
       "     <output id=\"result-2078ad0c-7184-4478-ba3c-817748e07eff\">\n",
       "      Upload widget is only available when the cell has been executed in the\n",
       "      current browser session. Please rerun this cell to enable.\n",
       "      </output>\n",
       "      <script src=\"/nbextensions/google.colab/files.js\"></script> "
      ],
      "text/plain": [
       "<IPython.core.display.HTML object>"
      ]
     },
     "metadata": {},
     "output_type": "display_data"
    },
    {
     "name": "stdout",
     "output_type": "stream",
     "text": [
      "Saving country.csv to country.csv\n"
     ]
    }
   ],
   "source": [
    "# Load country.csv\n",
    "_ = files.upload()"
   ]
  },
  {
   "cell_type": "code",
   "execution_count": 8,
   "metadata": {
    "colab": {
     "base_uri": "https://localhost:8080/",
     "height": 882
    },
    "executionInfo": {
     "elapsed": 278,
     "status": "ok",
     "timestamp": 1660199518699,
     "user": {
      "displayName": "Cainã Max Couto-Silva",
      "userId": "10965485795191366596"
     },
     "user_tz": 180
    },
    "id": "0or-H4duCT2N",
    "outputId": "8f357fa7-b43e-4486-9c2a-ba261128456e"
   },
   "outputs": [
    {
     "name": "stdout",
     "output_type": "stream",
     "text": [
      "unicorn_companies\n"
     ]
    },
    {
     "data": {
      "text/html": [
       "\n",
       "  <div id=\"df-02099523-00b1-4a20-a8fe-f94643345ba9\">\n",
       "    <div class=\"colab-df-container\">\n",
       "      <div>\n",
       "<style scoped>\n",
       "    .dataframe tbody tr th:only-of-type {\n",
       "        vertical-align: middle;\n",
       "    }\n",
       "\n",
       "    .dataframe tbody tr th {\n",
       "        vertical-align: top;\n",
       "    }\n",
       "\n",
       "    .dataframe thead th {\n",
       "        text-align: right;\n",
       "    }\n",
       "</style>\n",
       "<table border=\"1\" class=\"dataframe\">\n",
       "  <thead>\n",
       "    <tr style=\"text-align: right;\">\n",
       "      <th></th>\n",
       "      <th>Company</th>\n",
       "      <th>Valuation</th>\n",
       "      <th>Date_Added</th>\n",
       "      <th>Country</th>\n",
       "      <th>Category</th>\n",
       "      <th>Select_Investors</th>\n",
       "    </tr>\n",
       "  </thead>\n",
       "  <tbody>\n",
       "    <tr>\n",
       "      <th>0</th>\n",
       "      <td>Bytedance</td>\n",
       "      <td>140.0</td>\n",
       "      <td>2017-04-07</td>\n",
       "      <td>China</td>\n",
       "      <td>Artificial intelligence</td>\n",
       "      <td>Sequoia Capital China, SIG Asia Investments, S...</td>\n",
       "    </tr>\n",
       "    <tr>\n",
       "      <th>1</th>\n",
       "      <td>SpaceX</td>\n",
       "      <td>100.3</td>\n",
       "      <td>2012-12-01</td>\n",
       "      <td>United States</td>\n",
       "      <td>Other</td>\n",
       "      <td>Founders Fund, Draper Fisher Jurvetson, Rothen...</td>\n",
       "    </tr>\n",
       "    <tr>\n",
       "      <th>2</th>\n",
       "      <td>Stripe</td>\n",
       "      <td>95.0</td>\n",
       "      <td>2014-01-23</td>\n",
       "      <td>United States</td>\n",
       "      <td>Fintech</td>\n",
       "      <td>Khosla Ventures, LowercaseCapital, capitalG</td>\n",
       "    </tr>\n",
       "    <tr>\n",
       "      <th>3</th>\n",
       "      <td>Klarna</td>\n",
       "      <td>45.6</td>\n",
       "      <td>2011-12-12</td>\n",
       "      <td>Sweden</td>\n",
       "      <td>Fintech</td>\n",
       "      <td>Institutional Venture Partners, Sequoia Capita...</td>\n",
       "    </tr>\n",
       "    <tr>\n",
       "      <th>4</th>\n",
       "      <td>Canva</td>\n",
       "      <td>40.0</td>\n",
       "      <td>2018-01-08</td>\n",
       "      <td>Australia</td>\n",
       "      <td>Internet software &amp; services</td>\n",
       "      <td>Sequoia Capital China, Blackbird Ventures, Mat...</td>\n",
       "    </tr>\n",
       "    <tr>\n",
       "      <th>...</th>\n",
       "      <td>...</td>\n",
       "      <td>...</td>\n",
       "      <td>...</td>\n",
       "      <td>...</td>\n",
       "      <td>...</td>\n",
       "      <td>...</td>\n",
       "    </tr>\n",
       "    <tr>\n",
       "      <th>912</th>\n",
       "      <td>Heyday</td>\n",
       "      <td>1.0</td>\n",
       "      <td>2021-11-16</td>\n",
       "      <td>United States</td>\n",
       "      <td>E-commerce &amp; direct-to-consumer</td>\n",
       "      <td>Khosla Ventures,General Catalyst, Victory Park...</td>\n",
       "    </tr>\n",
       "    <tr>\n",
       "      <th>913</th>\n",
       "      <td>PLACE</td>\n",
       "      <td>1.0</td>\n",
       "      <td>2021-11-17</td>\n",
       "      <td>United States</td>\n",
       "      <td>Internet software &amp; services</td>\n",
       "      <td>Goldman Sachs Asset Management, 3L</td>\n",
       "    </tr>\n",
       "    <tr>\n",
       "      <th>914</th>\n",
       "      <td>Stytch</td>\n",
       "      <td>1.0</td>\n",
       "      <td>2021-11-18</td>\n",
       "      <td>United States</td>\n",
       "      <td>Cybersecurity</td>\n",
       "      <td>Index Ventures, Benchmark, Thrive Capital</td>\n",
       "    </tr>\n",
       "    <tr>\n",
       "      <th>915</th>\n",
       "      <td>Owkin</td>\n",
       "      <td>1.0</td>\n",
       "      <td>2021-11-18</td>\n",
       "      <td>United States</td>\n",
       "      <td>Artificial Intelligence</td>\n",
       "      <td>Google Ventures, Cathay Innovation, NJF Capital</td>\n",
       "    </tr>\n",
       "    <tr>\n",
       "      <th>916</th>\n",
       "      <td>Expel</td>\n",
       "      <td>1.0</td>\n",
       "      <td>2021-11-18</td>\n",
       "      <td>United States</td>\n",
       "      <td>Cybersecurity</td>\n",
       "      <td>Paladin Capital Group, Greycroft, Scale Ventur...</td>\n",
       "    </tr>\n",
       "  </tbody>\n",
       "</table>\n",
       "<p>917 rows × 6 columns</p>\n",
       "</div>\n",
       "      <button class=\"colab-df-convert\" onclick=\"convertToInteractive('df-02099523-00b1-4a20-a8fe-f94643345ba9')\"\n",
       "              title=\"Convert this dataframe to an interactive table.\"\n",
       "              style=\"display:none;\">\n",
       "        \n",
       "  <svg xmlns=\"http://www.w3.org/2000/svg\" height=\"24px\"viewBox=\"0 0 24 24\"\n",
       "       width=\"24px\">\n",
       "    <path d=\"M0 0h24v24H0V0z\" fill=\"none\"/>\n",
       "    <path d=\"M18.56 5.44l.94 2.06.94-2.06 2.06-.94-2.06-.94-.94-2.06-.94 2.06-2.06.94zm-11 1L8.5 8.5l.94-2.06 2.06-.94-2.06-.94L8.5 2.5l-.94 2.06-2.06.94zm10 10l.94 2.06.94-2.06 2.06-.94-2.06-.94-.94-2.06-.94 2.06-2.06.94z\"/><path d=\"M17.41 7.96l-1.37-1.37c-.4-.4-.92-.59-1.43-.59-.52 0-1.04.2-1.43.59L10.3 9.45l-7.72 7.72c-.78.78-.78 2.05 0 2.83L4 21.41c.39.39.9.59 1.41.59.51 0 1.02-.2 1.41-.59l7.78-7.78 2.81-2.81c.8-.78.8-2.07 0-2.86zM5.41 20L4 18.59l7.72-7.72 1.47 1.35L5.41 20z\"/>\n",
       "  </svg>\n",
       "      </button>\n",
       "      \n",
       "  <style>\n",
       "    .colab-df-container {\n",
       "      display:flex;\n",
       "      flex-wrap:wrap;\n",
       "      gap: 12px;\n",
       "    }\n",
       "\n",
       "    .colab-df-convert {\n",
       "      background-color: #E8F0FE;\n",
       "      border: none;\n",
       "      border-radius: 50%;\n",
       "      cursor: pointer;\n",
       "      display: none;\n",
       "      fill: #1967D2;\n",
       "      height: 32px;\n",
       "      padding: 0 0 0 0;\n",
       "      width: 32px;\n",
       "    }\n",
       "\n",
       "    .colab-df-convert:hover {\n",
       "      background-color: #E2EBFA;\n",
       "      box-shadow: 0px 1px 2px rgba(60, 64, 67, 0.3), 0px 1px 3px 1px rgba(60, 64, 67, 0.15);\n",
       "      fill: #174EA6;\n",
       "    }\n",
       "\n",
       "    [theme=dark] .colab-df-convert {\n",
       "      background-color: #3B4455;\n",
       "      fill: #D2E3FC;\n",
       "    }\n",
       "\n",
       "    [theme=dark] .colab-df-convert:hover {\n",
       "      background-color: #434B5C;\n",
       "      box-shadow: 0px 1px 3px 1px rgba(0, 0, 0, 0.15);\n",
       "      filter: drop-shadow(0px 1px 2px rgba(0, 0, 0, 0.3));\n",
       "      fill: #FFFFFF;\n",
       "    }\n",
       "  </style>\n",
       "\n",
       "      <script>\n",
       "        const buttonEl =\n",
       "          document.querySelector('#df-02099523-00b1-4a20-a8fe-f94643345ba9 button.colab-df-convert');\n",
       "        buttonEl.style.display =\n",
       "          google.colab.kernel.accessAllowed ? 'block' : 'none';\n",
       "\n",
       "        async function convertToInteractive(key) {\n",
       "          const element = document.querySelector('#df-02099523-00b1-4a20-a8fe-f94643345ba9');\n",
       "          const dataTable =\n",
       "            await google.colab.kernel.invokeFunction('convertToInteractive',\n",
       "                                                     [key], {});\n",
       "          if (!dataTable) return;\n",
       "\n",
       "          const docLinkHtml = 'Like what you see? Visit the ' +\n",
       "            '<a target=\"_blank\" href=https://colab.research.google.com/notebooks/data_table.ipynb>data table notebook</a>'\n",
       "            + ' to learn more about interactive tables.';\n",
       "          element.innerHTML = '';\n",
       "          dataTable['output_type'] = 'display_data';\n",
       "          await google.colab.output.renderOutput(dataTable, element);\n",
       "          const docLink = document.createElement('div');\n",
       "          docLink.innerHTML = docLinkHtml;\n",
       "          element.appendChild(docLink);\n",
       "        }\n",
       "      </script>\n",
       "    </div>\n",
       "  </div>\n",
       "  "
      ],
      "text/plain": [
       "       Company  Valuation  Date_Added        Country  \\\n",
       "0    Bytedance      140.0  2017-04-07          China   \n",
       "1       SpaceX      100.3  2012-12-01  United States   \n",
       "2       Stripe       95.0  2014-01-23  United States   \n",
       "3       Klarna       45.6  2011-12-12         Sweden   \n",
       "4        Canva       40.0  2018-01-08      Australia   \n",
       "..         ...        ...         ...            ...   \n",
       "912     Heyday        1.0  2021-11-16  United States   \n",
       "913      PLACE        1.0  2021-11-17  United States   \n",
       "914     Stytch        1.0  2021-11-18  United States   \n",
       "915      Owkin        1.0  2021-11-18  United States   \n",
       "916      Expel        1.0  2021-11-18  United States   \n",
       "\n",
       "                            Category  \\\n",
       "0            Artificial intelligence   \n",
       "1                              Other   \n",
       "2                            Fintech   \n",
       "3                            Fintech   \n",
       "4       Internet software & services   \n",
       "..                               ...   \n",
       "912  E-commerce & direct-to-consumer   \n",
       "913     Internet software & services   \n",
       "914                    Cybersecurity   \n",
       "915          Artificial Intelligence   \n",
       "916                    Cybersecurity   \n",
       "\n",
       "                                      Select_Investors  \n",
       "0    Sequoia Capital China, SIG Asia Investments, S...  \n",
       "1    Founders Fund, Draper Fisher Jurvetson, Rothen...  \n",
       "2          Khosla Ventures, LowercaseCapital, capitalG  \n",
       "3    Institutional Venture Partners, Sequoia Capita...  \n",
       "4    Sequoia Capital China, Blackbird Ventures, Mat...  \n",
       "..                                                 ...  \n",
       "912  Khosla Ventures,General Catalyst, Victory Park...  \n",
       "913                 Goldman Sachs Asset Management, 3L  \n",
       "914          Index Ventures, Benchmark, Thrive Capital  \n",
       "915    Google Ventures, Cathay Innovation, NJF Capital  \n",
       "916  Paladin Capital Group, Greycroft, Scale Ventur...  \n",
       "\n",
       "[917 rows x 6 columns]"
      ]
     },
     "metadata": {},
     "output_type": "display_data"
    },
    {
     "name": "stdout",
     "output_type": "stream",
     "text": [
      "\n",
      "country\n"
     ]
    },
    {
     "data": {
      "text/html": [
       "\n",
       "  <div id=\"df-528caad1-80c9-487b-b2d2-aaac22beb351\">\n",
       "    <div class=\"colab-df-container\">\n",
       "      <div>\n",
       "<style scoped>\n",
       "    .dataframe tbody tr th:only-of-type {\n",
       "        vertical-align: middle;\n",
       "    }\n",
       "\n",
       "    .dataframe tbody tr th {\n",
       "        vertical-align: top;\n",
       "    }\n",
       "\n",
       "    .dataframe thead th {\n",
       "        text-align: right;\n",
       "    }\n",
       "</style>\n",
       "<table border=\"1\" class=\"dataframe\">\n",
       "  <thead>\n",
       "    <tr style=\"text-align: right;\">\n",
       "      <th></th>\n",
       "      <th>Country</th>\n",
       "      <th>ISO_Alpha3_Code</th>\n",
       "      <th>M49_Code</th>\n",
       "      <th>Region_1</th>\n",
       "      <th>Region_2</th>\n",
       "      <th>Continent</th>\n",
       "    </tr>\n",
       "  </thead>\n",
       "  <tbody>\n",
       "    <tr>\n",
       "      <th>0</th>\n",
       "      <td>Afghanistan</td>\n",
       "      <td>AFG</td>\n",
       "      <td>4</td>\n",
       "      <td>Southern Asia</td>\n",
       "      <td>NaN</td>\n",
       "      <td>Asia</td>\n",
       "    </tr>\n",
       "    <tr>\n",
       "      <th>1</th>\n",
       "      <td>Åland Islands</td>\n",
       "      <td>ALA</td>\n",
       "      <td>248</td>\n",
       "      <td>Northern Europe</td>\n",
       "      <td>NaN</td>\n",
       "      <td>Europe</td>\n",
       "    </tr>\n",
       "    <tr>\n",
       "      <th>2</th>\n",
       "      <td>Albania</td>\n",
       "      <td>ALB</td>\n",
       "      <td>8</td>\n",
       "      <td>Southern Europe</td>\n",
       "      <td>NaN</td>\n",
       "      <td>Europe</td>\n",
       "    </tr>\n",
       "    <tr>\n",
       "      <th>3</th>\n",
       "      <td>Algeria</td>\n",
       "      <td>DZA</td>\n",
       "      <td>12</td>\n",
       "      <td>Northern Africa</td>\n",
       "      <td>NaN</td>\n",
       "      <td>Africa</td>\n",
       "    </tr>\n",
       "    <tr>\n",
       "      <th>4</th>\n",
       "      <td>American Samoa</td>\n",
       "      <td>ASM</td>\n",
       "      <td>16</td>\n",
       "      <td>Polynesia</td>\n",
       "      <td>NaN</td>\n",
       "      <td>Oceania</td>\n",
       "    </tr>\n",
       "    <tr>\n",
       "      <th>...</th>\n",
       "      <td>...</td>\n",
       "      <td>...</td>\n",
       "      <td>...</td>\n",
       "      <td>...</td>\n",
       "      <td>...</td>\n",
       "      <td>...</td>\n",
       "    </tr>\n",
       "    <tr>\n",
       "      <th>244</th>\n",
       "      <td>Wallis and Futuna Islands</td>\n",
       "      <td>WLF</td>\n",
       "      <td>876</td>\n",
       "      <td>Polynesia</td>\n",
       "      <td>NaN</td>\n",
       "      <td>Oceania</td>\n",
       "    </tr>\n",
       "    <tr>\n",
       "      <th>245</th>\n",
       "      <td>Western Sahara</td>\n",
       "      <td>ESH</td>\n",
       "      <td>732</td>\n",
       "      <td>Northern Africa</td>\n",
       "      <td>NaN</td>\n",
       "      <td>Africa</td>\n",
       "    </tr>\n",
       "    <tr>\n",
       "      <th>246</th>\n",
       "      <td>Yemen</td>\n",
       "      <td>YEM</td>\n",
       "      <td>887</td>\n",
       "      <td>Western Asia</td>\n",
       "      <td>NaN</td>\n",
       "      <td>Asia</td>\n",
       "    </tr>\n",
       "    <tr>\n",
       "      <th>247</th>\n",
       "      <td>Zambia</td>\n",
       "      <td>ZMB</td>\n",
       "      <td>894</td>\n",
       "      <td>Eastern Africa</td>\n",
       "      <td>Sub-Saharan Africa</td>\n",
       "      <td>Africa</td>\n",
       "    </tr>\n",
       "    <tr>\n",
       "      <th>248</th>\n",
       "      <td>Zimbabwe</td>\n",
       "      <td>ZWE</td>\n",
       "      <td>716</td>\n",
       "      <td>Eastern Africa</td>\n",
       "      <td>Sub-Saharan Africa</td>\n",
       "      <td>Africa</td>\n",
       "    </tr>\n",
       "  </tbody>\n",
       "</table>\n",
       "<p>249 rows × 6 columns</p>\n",
       "</div>\n",
       "      <button class=\"colab-df-convert\" onclick=\"convertToInteractive('df-528caad1-80c9-487b-b2d2-aaac22beb351')\"\n",
       "              title=\"Convert this dataframe to an interactive table.\"\n",
       "              style=\"display:none;\">\n",
       "        \n",
       "  <svg xmlns=\"http://www.w3.org/2000/svg\" height=\"24px\"viewBox=\"0 0 24 24\"\n",
       "       width=\"24px\">\n",
       "    <path d=\"M0 0h24v24H0V0z\" fill=\"none\"/>\n",
       "    <path d=\"M18.56 5.44l.94 2.06.94-2.06 2.06-.94-2.06-.94-.94-2.06-.94 2.06-2.06.94zm-11 1L8.5 8.5l.94-2.06 2.06-.94-2.06-.94L8.5 2.5l-.94 2.06-2.06.94zm10 10l.94 2.06.94-2.06 2.06-.94-2.06-.94-.94-2.06-.94 2.06-2.06.94z\"/><path d=\"M17.41 7.96l-1.37-1.37c-.4-.4-.92-.59-1.43-.59-.52 0-1.04.2-1.43.59L10.3 9.45l-7.72 7.72c-.78.78-.78 2.05 0 2.83L4 21.41c.39.39.9.59 1.41.59.51 0 1.02-.2 1.41-.59l7.78-7.78 2.81-2.81c.8-.78.8-2.07 0-2.86zM5.41 20L4 18.59l7.72-7.72 1.47 1.35L5.41 20z\"/>\n",
       "  </svg>\n",
       "      </button>\n",
       "      \n",
       "  <style>\n",
       "    .colab-df-container {\n",
       "      display:flex;\n",
       "      flex-wrap:wrap;\n",
       "      gap: 12px;\n",
       "    }\n",
       "\n",
       "    .colab-df-convert {\n",
       "      background-color: #E8F0FE;\n",
       "      border: none;\n",
       "      border-radius: 50%;\n",
       "      cursor: pointer;\n",
       "      display: none;\n",
       "      fill: #1967D2;\n",
       "      height: 32px;\n",
       "      padding: 0 0 0 0;\n",
       "      width: 32px;\n",
       "    }\n",
       "\n",
       "    .colab-df-convert:hover {\n",
       "      background-color: #E2EBFA;\n",
       "      box-shadow: 0px 1px 2px rgba(60, 64, 67, 0.3), 0px 1px 3px 1px rgba(60, 64, 67, 0.15);\n",
       "      fill: #174EA6;\n",
       "    }\n",
       "\n",
       "    [theme=dark] .colab-df-convert {\n",
       "      background-color: #3B4455;\n",
       "      fill: #D2E3FC;\n",
       "    }\n",
       "\n",
       "    [theme=dark] .colab-df-convert:hover {\n",
       "      background-color: #434B5C;\n",
       "      box-shadow: 0px 1px 3px 1px rgba(0, 0, 0, 0.15);\n",
       "      filter: drop-shadow(0px 1px 2px rgba(0, 0, 0, 0.3));\n",
       "      fill: #FFFFFF;\n",
       "    }\n",
       "  </style>\n",
       "\n",
       "      <script>\n",
       "        const buttonEl =\n",
       "          document.querySelector('#df-528caad1-80c9-487b-b2d2-aaac22beb351 button.colab-df-convert');\n",
       "        buttonEl.style.display =\n",
       "          google.colab.kernel.accessAllowed ? 'block' : 'none';\n",
       "\n",
       "        async function convertToInteractive(key) {\n",
       "          const element = document.querySelector('#df-528caad1-80c9-487b-b2d2-aaac22beb351');\n",
       "          const dataTable =\n",
       "            await google.colab.kernel.invokeFunction('convertToInteractive',\n",
       "                                                     [key], {});\n",
       "          if (!dataTable) return;\n",
       "\n",
       "          const docLinkHtml = 'Like what you see? Visit the ' +\n",
       "            '<a target=\"_blank\" href=https://colab.research.google.com/notebooks/data_table.ipynb>data table notebook</a>'\n",
       "            + ' to learn more about interactive tables.';\n",
       "          element.innerHTML = '';\n",
       "          dataTable['output_type'] = 'display_data';\n",
       "          await google.colab.output.renderOutput(dataTable, element);\n",
       "          const docLink = document.createElement('div');\n",
       "          docLink.innerHTML = docLinkHtml;\n",
       "          element.appendChild(docLink);\n",
       "        }\n",
       "      </script>\n",
       "    </div>\n",
       "  </div>\n",
       "  "
      ],
      "text/plain": [
       "                       Country ISO_Alpha3_Code  M49_Code         Region_1  \\\n",
       "0                  Afghanistan             AFG         4    Southern Asia   \n",
       "1                Åland Islands             ALA       248  Northern Europe   \n",
       "2                      Albania             ALB         8  Southern Europe   \n",
       "3                      Algeria             DZA        12  Northern Africa   \n",
       "4               American Samoa             ASM        16        Polynesia   \n",
       "..                         ...             ...       ...              ...   \n",
       "244  Wallis and Futuna Islands             WLF       876        Polynesia   \n",
       "245             Western Sahara             ESH       732  Northern Africa   \n",
       "246                      Yemen             YEM       887     Western Asia   \n",
       "247                     Zambia             ZMB       894   Eastern Africa   \n",
       "248                   Zimbabwe             ZWE       716   Eastern Africa   \n",
       "\n",
       "               Region_2 Continent  \n",
       "0                   NaN      Asia  \n",
       "1                   NaN    Europe  \n",
       "2                   NaN    Europe  \n",
       "3                   NaN    Africa  \n",
       "4                   NaN   Oceania  \n",
       "..                  ...       ...  \n",
       "244                 NaN   Oceania  \n",
       "245                 NaN    Africa  \n",
       "246                 NaN      Asia  \n",
       "247  Sub-Saharan Africa    Africa  \n",
       "248  Sub-Saharan Africa    Africa  \n",
       "\n",
       "[249 rows x 6 columns]"
      ]
     },
     "metadata": {},
     "output_type": "display_data"
    }
   ],
   "source": [
    "# Mostrar tabelas com pandas\n",
    "print('unicorn_companies')\n",
    "display(pd.read_csv('unicorn_companies.csv'))\n",
    "print('\\ncountry')\n",
    "display(pd.read_csv('country.csv'))"
   ]
  },
  {
   "cell_type": "code",
   "execution_count": 9,
   "metadata": {
    "executionInfo": {
     "elapsed": 8395,
     "status": "ok",
     "timestamp": 1660199534868,
     "user": {
      "displayName": "Cainã Max Couto-Silva",
      "userId": "10965485795191366596"
     },
     "user_tz": 180
    },
    "id": "JOMjC3OennnG"
   },
   "outputs": [],
   "source": [
    "# Carrecar dados com Spark\n",
    "df = spark.read.csv('unicorn_companies.csv', header=True, inferSchema=True)\n",
    "df_country = spark.read.csv('country.csv', header=True, inferSchema=True)"
   ]
  },
  {
   "cell_type": "markdown",
   "metadata": {
    "id": "YDf0rozs95tq"
   },
   "source": [
    "# Playground"
   ]
  },
  {
   "cell_type": "markdown",
   "metadata": {
    "id": "eL4Bh0VewIpt"
   },
   "source": [
    "Partitons: \n",
    "- Show number of partitions\n",
    "- Repartition\n",
    "- Coalesce"
   ]
  },
  {
   "cell_type": "code",
   "execution_count": 10,
   "metadata": {
    "colab": {
     "base_uri": "https://localhost:8080/"
    },
    "executionInfo": {
     "elapsed": 486,
     "status": "ok",
     "timestamp": 1660199541664,
     "user": {
      "displayName": "Cainã Max Couto-Silva",
      "userId": "10965485795191366596"
     },
     "user_tz": 180
    },
    "id": "8bs1ekO5BLwv",
    "outputId": "2cfd1f8a-5755-47a8-f11d-6ef97c5afec8"
   },
   "outputs": [
    {
     "data": {
      "text/plain": [
       "1"
      ]
     },
     "execution_count": 10,
     "metadata": {},
     "output_type": "execute_result"
    }
   ],
   "source": [
    "# Mostrando num de partições (como são poucos dados, Spark configurou apenas uma)\n",
    "df.rdd.getNumPartitions()"
   ]
  },
  {
   "cell_type": "code",
   "execution_count": 11,
   "metadata": {
    "executionInfo": {
     "elapsed": 2,
     "status": "ok",
     "timestamp": 1660199542082,
     "user": {
      "displayName": "Cainã Max Couto-Silva",
      "userId": "10965485795191366596"
     },
     "user_tz": 180
    },
    "id": "M0nI77chDeB6"
   },
   "outputs": [],
   "source": [
    "# Reparticionando para duas partições\n",
    "df = df.repartition(2)"
   ]
  },
  {
   "cell_type": "code",
   "execution_count": 12,
   "metadata": {
    "colab": {
     "base_uri": "https://localhost:8080/"
    },
    "executionInfo": {
     "elapsed": 479,
     "status": "ok",
     "timestamp": 1660199542559,
     "user": {
      "displayName": "Cainã Max Couto-Silva",
      "userId": "10965485795191366596"
     },
     "user_tz": 180
    },
    "id": "3xT6HoIxDgRp",
    "outputId": "117bc347-b903-4007-b3c2-6f2222382a5a"
   },
   "outputs": [
    {
     "data": {
      "text/plain": [
       "2"
      ]
     },
     "execution_count": 12,
     "metadata": {},
     "output_type": "execute_result"
    }
   ],
   "source": [
    "df.rdd.getNumPartitions()"
   ]
  },
  {
   "cell_type": "markdown",
   "metadata": {
    "id": "-5xj10VE9_YH"
   },
   "source": [
    "## Verify & cast data types"
   ]
  },
  {
   "cell_type": "markdown",
   "metadata": {
    "id": "fZNnOdZG4Gw9"
   },
   "source": [
    "Show data schema"
   ]
  },
  {
   "cell_type": "code",
   "execution_count": 13,
   "metadata": {
    "colab": {
     "base_uri": "https://localhost:8080/"
    },
    "executionInfo": {
     "elapsed": 8,
     "status": "ok",
     "timestamp": 1660199542560,
     "user": {
      "displayName": "Cainã Max Couto-Silva",
      "userId": "10965485795191366596"
     },
     "user_tz": 180
    },
    "id": "u6LQqYRU-G3N",
    "outputId": "09a0e61a-8f08-44a8-f17b-97bb5fb9791f"
   },
   "outputs": [
    {
     "data": {
      "text/plain": [
       "DataFrame[Company: string, Valuation: double, Date_Added: timestamp, Country: string, Category: string, Select_Investors: string]"
      ]
     },
     "execution_count": 13,
     "metadata": {},
     "output_type": "execute_result"
    }
   ],
   "source": [
    "df"
   ]
  },
  {
   "cell_type": "code",
   "execution_count": 14,
   "metadata": {
    "colab": {
     "base_uri": "https://localhost:8080/"
    },
    "executionInfo": {
     "elapsed": 5,
     "status": "ok",
     "timestamp": 1660199542560,
     "user": {
      "displayName": "Cainã Max Couto-Silva",
      "userId": "10965485795191366596"
     },
     "user_tz": 180
    },
    "id": "KeByIsM_9-np",
    "outputId": "620693b1-cbed-410c-b5d1-f02f25325e8e"
   },
   "outputs": [
    {
     "name": "stdout",
     "output_type": "stream",
     "text": [
      "root\n",
      " |-- Company: string (nullable = true)\n",
      " |-- Valuation: double (nullable = true)\n",
      " |-- Date_Added: timestamp (nullable = true)\n",
      " |-- Country: string (nullable = true)\n",
      " |-- Category: string (nullable = true)\n",
      " |-- Select_Investors: string (nullable = true)\n",
      "\n"
     ]
    }
   ],
   "source": [
    "df.printSchema()"
   ]
  },
  {
   "cell_type": "markdown",
   "metadata": {
    "id": "Ws638hZJ_NIL"
   },
   "source": [
    "Changing data schema with `cast`"
   ]
  },
  {
   "cell_type": "code",
   "execution_count": 15,
   "metadata": {
    "executionInfo": {
     "elapsed": 404,
     "status": "ok",
     "timestamp": 1660199542961,
     "user": {
      "displayName": "Cainã Max Couto-Silva",
      "userId": "10965485795191366596"
     },
     "user_tz": 180
    },
    "id": "IniWVpjV-JlN"
   },
   "outputs": [],
   "source": [
    "df = df.withColumn('Date_Added', F.col('Date_Added').cast('date'))"
   ]
  },
  {
   "cell_type": "code",
   "execution_count": 16,
   "metadata": {
    "colab": {
     "base_uri": "https://localhost:8080/"
    },
    "executionInfo": {
     "elapsed": 9,
     "status": "ok",
     "timestamp": 1660199542962,
     "user": {
      "displayName": "Cainã Max Couto-Silva",
      "userId": "10965485795191366596"
     },
     "user_tz": 180
    },
    "id": "-SoGNKEm-JgQ",
    "outputId": "78412c5e-6904-4282-8ee8-306513b6ee23"
   },
   "outputs": [
    {
     "name": "stdout",
     "output_type": "stream",
     "text": [
      "root\n",
      " |-- Company: string (nullable = true)\n",
      " |-- Valuation: double (nullable = true)\n",
      " |-- Date_Added: date (nullable = true)\n",
      " |-- Country: string (nullable = true)\n",
      " |-- Category: string (nullable = true)\n",
      " |-- Select_Investors: string (nullable = true)\n",
      "\n"
     ]
    }
   ],
   "source": [
    "df.printSchema()"
   ]
  },
  {
   "cell_type": "markdown",
   "metadata": {
    "id": "qdkl4x5B4Lys"
   },
   "source": [
    "Specifying data schema with `StructType`"
   ]
  },
  {
   "cell_type": "code",
   "execution_count": 17,
   "metadata": {
    "colab": {
     "base_uri": "https://localhost:8080/"
    },
    "executionInfo": {
     "elapsed": 6,
     "status": "ok",
     "timestamp": 1660199542962,
     "user": {
      "displayName": "Cainã Max Couto-Silva",
      "userId": "10965485795191366596"
     },
     "user_tz": 180
    },
    "id": "nWouZRzRqBjL",
    "outputId": "0693a468-0e21-4748-db5f-dfa36ad376c6"
   },
   "outputs": [
    {
     "name": "stdout",
     "output_type": "stream",
     "text": [
      "root\n",
      " |-- Company: string (nullable = true)\n",
      " |-- Valuation: double (nullable = true)\n",
      " |-- Date_Added: date (nullable = true)\n",
      " |-- Country: string (nullable = true)\n",
      " |-- Category: string (nullable = true)\n",
      " |-- Select_Investors: string (nullable = true)\n",
      "\n"
     ]
    }
   ],
   "source": [
    "schema = StructType([\n",
    "    StructField('Company', StringType()),\n",
    "    StructField('Valuation', DoubleType()),\n",
    "    StructField('Date_Added', DateType()),\n",
    "    StructField('Country', StringType()),\n",
    "    StructField('Category', StringType()),\n",
    "    StructField('Select_Investors', StringType())\n",
    "])\n",
    "\n",
    "df = spark.read.csv('unicorn_companies.csv', header=True, schema=schema)\n",
    "df = df.repartition(2)\n",
    "df.printSchema()"
   ]
  },
  {
   "cell_type": "markdown",
   "metadata": {
    "id": "yht02_hXfhWi"
   },
   "source": [
    "## Describe function"
   ]
  },
  {
   "cell_type": "code",
   "execution_count": 18,
   "metadata": {
    "colab": {
     "base_uri": "https://localhost:8080/"
    },
    "executionInfo": {
     "elapsed": 3151,
     "status": "ok",
     "timestamp": 1660199546110,
     "user": {
      "displayName": "Cainã Max Couto-Silva",
      "userId": "10965485795191366596"
     },
     "user_tz": 180
    },
    "id": "fkoBTnZdfgqL",
    "outputId": "ff4fb88f-2b69-4642-df0f-a04dfca7276a"
   },
   "outputs": [
    {
     "name": "stdout",
     "output_type": "stream",
     "text": [
      "+-------+----------+-----------------+---------+--------------------+--------------------+\n",
      "|summary|   Company|        Valuation|  Country|            Category|    Select_Investors|\n",
      "+-------+----------+-----------------+---------+--------------------+--------------------+\n",
      "|  count|       917|              917|      917|                 917|                 916|\n",
      "|   mean|      null|3.311690294438385|     null|                null|                null|\n",
      "| stddev|      null|7.542281464806968|     null|                null|                null|\n",
      "|    min|1047 Games|              1.0|Argentina|Artificial Intell...|01 Advisors, Zeev...|\n",
      "|    max|     wefox|            140.0|  Vietnam|              Travel|next47, MaC Ventu...|\n",
      "+-------+----------+-----------------+---------+--------------------+--------------------+\n",
      "\n"
     ]
    }
   ],
   "source": [
    "df.describe().show()"
   ]
  },
  {
   "cell_type": "markdown",
   "metadata": {
    "id": "rLdkbx_2_Ykj"
   },
   "source": [
    "## Select & Filters"
   ]
  },
  {
   "cell_type": "markdown",
   "metadata": {
    "id": "5cfKqJ93vaWj"
   },
   "source": [
    "There are multiple ways to select columns:"
   ]
  },
  {
   "cell_type": "code",
   "execution_count": 19,
   "metadata": {
    "colab": {
     "base_uri": "https://localhost:8080/"
    },
    "executionInfo": {
     "elapsed": 396,
     "status": "ok",
     "timestamp": 1660199546493,
     "user": {
      "displayName": "Cainã Max Couto-Silva",
      "userId": "10965485795191366596"
     },
     "user_tz": 180
    },
    "id": "pVXcu7e2-Jb4",
    "outputId": "bdc8677e-968e-493c-be66-e90a23268a82"
   },
   "outputs": [
    {
     "name": "stdout",
     "output_type": "stream",
     "text": [
      "+---------------+---------------+---------------+---------------+---------------+\n",
      "|        Company|        Company|        Company|        Company|        Company|\n",
      "+---------------+---------------+---------------+---------------+---------------+\n",
      "|      GoStudent|      GoStudent|      GoStudent|      GoStudent|      GoStudent|\n",
      "|SouChe Holdings|SouChe Holdings|SouChe Holdings|SouChe Holdings|SouChe Holdings|\n",
      "|  Kuaigou Dache|  Kuaigou Dache|  Kuaigou Dache|  Kuaigou Dache|  Kuaigou Dache|\n",
      "|       Rightway|       Rightway|       Rightway|       Rightway|       Rightway|\n",
      "|       CarDekho|       CarDekho|       CarDekho|       CarDekho|       CarDekho|\n",
      "+---------------+---------------+---------------+---------------+---------------+\n",
      "only showing top 5 rows\n",
      "\n"
     ]
    }
   ],
   "source": [
    "df.select('Company', F.col('Company'), df.Company, df['Company'], df[0]).show(5)"
   ]
  },
  {
   "cell_type": "markdown",
   "metadata": {
    "id": "9MUu-636-JRx"
   },
   "source": [
    "Filtering with `filter` and `where`; PySpark and SQL syntaxes"
   ]
  },
  {
   "cell_type": "code",
   "execution_count": 20,
   "metadata": {
    "colab": {
     "base_uri": "https://localhost:8080/"
    },
    "executionInfo": {
     "elapsed": 361,
     "status": "ok",
     "timestamp": 1660199546853,
     "user": {
      "displayName": "Cainã Max Couto-Silva",
      "userId": "10965485795191366596"
     },
     "user_tz": 180
    },
    "id": "PSaLcGo0-GL4",
    "outputId": "994dbd79-d5e1-4ca3-cc5c-7e52618d515e"
   },
   "outputs": [
    {
     "name": "stdout",
     "output_type": "stream",
     "text": [
      "+----------------+---------+----------+-------+--------------------+--------------------+\n",
      "|         Company|Valuation|Date_Added|Country|            Category|    Select_Investors|\n",
      "+----------------+---------+----------+-------+--------------------+--------------------+\n",
      "|           Unico|      1.0|2021-08-03| Brazil|Artificial intell...|Big Bets, General...|\n",
      "|       Nuvemshop|      3.1|2021-08-17| Brazil|E-commerce & dire...|Kaszek Ventures, ...|\n",
      "|         C6 Bank|     5.05|2020-12-02| Brazil|             Fintech|       Credit Suisse|\n",
      "|           iFood|      1.0|2018-11-13| Brazil|Supply chain, log...|Movile, Just Eat,...|\n",
      "|Wildlife Studios|      3.0|2019-12-05| Brazil|               Other|Benchmark, Bessem...|\n",
      "+----------------+---------+----------+-------+--------------------+--------------------+\n",
      "only showing top 5 rows\n",
      "\n"
     ]
    }
   ],
   "source": [
    "df.filter(F.col('Country')=='Brazil').show(5)"
   ]
  },
  {
   "cell_type": "code",
   "execution_count": 21,
   "metadata": {
    "colab": {
     "base_uri": "https://localhost:8080/"
    },
    "executionInfo": {
     "elapsed": 497,
     "status": "ok",
     "timestamp": 1660199547348,
     "user": {
      "displayName": "Cainã Max Couto-Silva",
      "userId": "10965485795191366596"
     },
     "user_tz": 180
    },
    "id": "RqmBm4q1ASIn",
    "outputId": "20c7f80e-5de1-40ad-996c-92b5d493fb98"
   },
   "outputs": [
    {
     "name": "stdout",
     "output_type": "stream",
     "text": [
      "+----------------+---------+----------+-------+--------------------+--------------------+\n",
      "|         Company|Valuation|Date_Added|Country|            Category|    Select_Investors|\n",
      "+----------------+---------+----------+-------+--------------------+--------------------+\n",
      "|           Unico|      1.0|2021-08-03| Brazil|Artificial intell...|Big Bets, General...|\n",
      "|       Nuvemshop|      3.1|2021-08-17| Brazil|E-commerce & dire...|Kaszek Ventures, ...|\n",
      "|         C6 Bank|     5.05|2020-12-02| Brazil|             Fintech|       Credit Suisse|\n",
      "|           iFood|      1.0|2018-11-13| Brazil|Supply chain, log...|Movile, Just Eat,...|\n",
      "|Wildlife Studios|      3.0|2019-12-05| Brazil|               Other|Benchmark, Bessem...|\n",
      "+----------------+---------+----------+-------+--------------------+--------------------+\n",
      "only showing top 5 rows\n",
      "\n"
     ]
    }
   ],
   "source": [
    "df.where(F.col('Country')=='Brazil').show(5)"
   ]
  },
  {
   "cell_type": "code",
   "execution_count": 22,
   "metadata": {
    "colab": {
     "base_uri": "https://localhost:8080/"
    },
    "executionInfo": {
     "elapsed": 382,
     "status": "ok",
     "timestamp": 1660199547727,
     "user": {
      "displayName": "Cainã Max Couto-Silva",
      "userId": "10965485795191366596"
     },
     "user_tz": 180
    },
    "id": "vykgjVyWASCX",
    "outputId": "c5c6bb95-74cb-4b2e-90ff-acebbc5844ac"
   },
   "outputs": [
    {
     "name": "stdout",
     "output_type": "stream",
     "text": [
      "+-----------+---------+----------+-------+--------------------+--------------------+\n",
      "|    Company|Valuation|Date_Added|Country|            Category|    Select_Investors|\n",
      "+-----------+---------+----------+-------+--------------------+--------------------+\n",
      "|    C6 Bank|     5.05|2020-12-02| Brazil|             Fintech|       Credit Suisse|\n",
      "|QuintoAndar|      5.1|2019-09-09| Brazil|E-commerce & dire...|Kaszek Ventures, ...|\n",
      "|     Nubank|     30.0|2018-03-01| Brazil|             Fintech|Sequoia Capital, ...|\n",
      "+-----------+---------+----------+-------+--------------------+--------------------+\n",
      "\n"
     ]
    }
   ],
   "source": [
    "# sql-like syntax\n",
    "df.filter('Country=\"Brazil\" AND Valuation > 5').show()"
   ]
  },
  {
   "cell_type": "markdown",
   "metadata": {
    "id": "XOqyq35zCVtk"
   },
   "source": [
    "## Group By / Order By"
   ]
  },
  {
   "cell_type": "markdown",
   "metadata": {
    "id": "SCZMpqThFRTH"
   },
   "source": [
    "Using pyspark syntax"
   ]
  },
  {
   "cell_type": "code",
   "execution_count": 23,
   "metadata": {
    "colab": {
     "base_uri": "https://localhost:8080/"
    },
    "executionInfo": {
     "elapsed": 1462,
     "status": "ok",
     "timestamp": 1660199549186,
     "user": {
      "displayName": "Cainã Max Couto-Silva",
      "userId": "10965485795191366596"
     },
     "user_tz": 180
    },
    "id": "SeXWwPhACUNN",
    "outputId": "236cb057-03de-40b2-e1f1-d70c31fd9d95"
   },
   "outputs": [
    {
     "name": "stdout",
     "output_type": "stream",
     "text": [
      "+-----------------------------------+------------------+------------------+\n",
      "|Category                           |valuation_sum     |valuation_mean    |\n",
      "+-----------------------------------+------------------+------------------+\n",
      "|Finttech                           |10.0              |10.0              |\n",
      "|Other                              |245.46            |4.812941176470589 |\n",
      "|Artificial intelligence            |308.14            |4.465797101449275 |\n",
      "|Fintech                            |726.39            |3.9477717391304346|\n",
      "|Data management & analytics        |120.7             |3.448571428571429 |\n",
      "|Auto & transportation              |101.35000000000001|3.3783333333333334|\n",
      "|Edtech                             |85.37             |3.161851851851852 |\n",
      "|Hardware                           |98.59             |3.0809375         |\n",
      "|Internet software & services       |479.7099999999999 |2.9250609756097554|\n",
      "|E-commerce & direct-to-consumer    |283.11999999999995|2.918762886597938 |\n",
      "|Consumer & retail                  |64.13             |2.7882608695652173|\n",
      "|Cybersecurity                      |103.88999999999999|2.7339473684210525|\n",
      "|Supply chain, logistics, & delivery|134.08999999999997|2.6292156862745095|\n",
      "|Travel                             |36.6              |2.6142857142857143|\n",
      "|Health                             |161.49            |2.604677419354839 |\n",
      "|Mobile & telecommunications        |74.09             |2.0580555555555557|\n",
      "|Artificial Intelligence            |3.7               |1.2333333333333334|\n",
      "+-----------------------------------+------------------+------------------+\n",
      "\n"
     ]
    }
   ],
   "source": [
    "(\n",
    "  df\n",
    " .groupby('Category')\n",
    " .agg(\n",
    "    F.sum('Valuation').alias('valuation_sum'),\n",
    "    F.mean('Valuation').alias('valuation_mean')\n",
    " )\n",
    " .orderBy(F.desc('valuation_mean'))\n",
    " .show(truncate=False)\n",
    ")"
   ]
  },
  {
   "cell_type": "markdown",
   "metadata": {
    "id": "mv7cqhIKFUGr"
   },
   "source": [
    "Using SQL syntax"
   ]
  },
  {
   "cell_type": "code",
   "execution_count": 24,
   "metadata": {
    "executionInfo": {
     "elapsed": 7,
     "status": "ok",
     "timestamp": 1660199549187,
     "user": {
      "displayName": "Cainã Max Couto-Silva",
      "userId": "10965485795191366596"
     },
     "user_tz": 180
    },
    "id": "JSpvuiKWEu0v"
   },
   "outputs": [],
   "source": [
    "df.createOrReplaceTempView('unicorn')"
   ]
  },
  {
   "cell_type": "code",
   "execution_count": 25,
   "metadata": {
    "colab": {
     "base_uri": "https://localhost:8080/"
    },
    "executionInfo": {
     "elapsed": 881,
     "status": "ok",
     "timestamp": 1660199550062,
     "user": {
      "displayName": "Cainã Max Couto-Silva",
      "userId": "10965485795191366596"
     },
     "user_tz": 180
    },
    "id": "vDvynF7QEuyQ",
    "outputId": "6a9e3297-43bd-4d6e-cd7c-a6398c830244"
   },
   "outputs": [
    {
     "name": "stdout",
     "output_type": "stream",
     "text": [
      "+-----------------------------------+------------------+------------------+\n",
      "|Category                           |valuation_sum     |valuation_mean    |\n",
      "+-----------------------------------+------------------+------------------+\n",
      "|Finttech                           |10.0              |10.0              |\n",
      "|Other                              |245.46            |4.812941176470589 |\n",
      "|Artificial intelligence            |308.14            |4.465797101449275 |\n",
      "|Fintech                            |726.39            |3.9477717391304346|\n",
      "|Data management & analytics        |120.7             |3.448571428571429 |\n",
      "|Auto & transportation              |101.35000000000001|3.3783333333333334|\n",
      "|Edtech                             |85.37             |3.161851851851852 |\n",
      "|Hardware                           |98.59             |3.0809375         |\n",
      "|Internet software & services       |479.7099999999999 |2.9250609756097554|\n",
      "|E-commerce & direct-to-consumer    |283.11999999999995|2.918762886597938 |\n",
      "|Consumer & retail                  |64.13             |2.7882608695652173|\n",
      "|Cybersecurity                      |103.88999999999999|2.7339473684210525|\n",
      "|Supply chain, logistics, & delivery|134.08999999999997|2.6292156862745095|\n",
      "|Travel                             |36.6              |2.6142857142857143|\n",
      "|Health                             |161.49            |2.604677419354839 |\n",
      "|Mobile & telecommunications        |74.09             |2.0580555555555557|\n",
      "|Artificial Intelligence            |3.7               |1.2333333333333334|\n",
      "+-----------------------------------+------------------+------------------+\n",
      "\n"
     ]
    }
   ],
   "source": [
    "query = \"\"\"\n",
    "SELECT\n",
    "  Category,\n",
    "  SUM(Valuation) AS valuation_sum,\n",
    "  AVG(Valuation) AS valuation_mean\n",
    "FROM\n",
    "  unicorn\n",
    "GROUP BY\n",
    "  Category\n",
    "ORDER BY\n",
    "  valuation_mean DESC\n",
    "\"\"\"\n",
    "\n",
    "spark.sql(query).show(truncate=False)"
   ]
  },
  {
   "cell_type": "markdown",
   "metadata": {
    "id": "2m_iu6m1F-Nm"
   },
   "source": [
    "## Distinct values"
   ]
  },
  {
   "cell_type": "markdown",
   "metadata": {
    "id": "xaOynZf77L3S"
   },
   "source": [
    "Count distinct values "
   ]
  },
  {
   "cell_type": "code",
   "execution_count": 26,
   "metadata": {
    "colab": {
     "base_uri": "https://localhost:8080/"
    },
    "executionInfo": {
     "elapsed": 444,
     "status": "ok",
     "timestamp": 1660199550502,
     "user": {
      "displayName": "Cainã Max Couto-Silva",
      "userId": "10965485795191366596"
     },
     "user_tz": 180
    },
    "id": "PSx4_EfEEuvp",
    "outputId": "0fd681b7-5b98-4ed8-c8f1-6a983002d087"
   },
   "outputs": [
    {
     "name": "stdout",
     "output_type": "stream",
     "text": [
      "+------------------------+\n",
      "|count(DISTINCT Category)|\n",
      "+------------------------+\n",
      "|                      17|\n",
      "+------------------------+\n",
      "\n"
     ]
    }
   ],
   "source": [
    "df.select(F.countDistinct('Category')).distinct().show()"
   ]
  },
  {
   "cell_type": "markdown",
   "metadata": {
    "id": "4Ctuduoo7P6j"
   },
   "source": [
    "Show distinct values"
   ]
  },
  {
   "cell_type": "code",
   "execution_count": 27,
   "metadata": {
    "colab": {
     "base_uri": "https://localhost:8080/"
    },
    "executionInfo": {
     "elapsed": 1156,
     "status": "ok",
     "timestamp": 1660199551655,
     "user": {
      "displayName": "Cainã Max Couto-Silva",
      "userId": "10965485795191366596"
     },
     "user_tz": 180
    },
    "id": "gaoRlCTbEus6",
    "outputId": "c5a15f04-3ff8-4a5e-e9ff-300a06b58818"
   },
   "outputs": [
    {
     "name": "stdout",
     "output_type": "stream",
     "text": [
      "+-----------------------------------+\n",
      "|Category                           |\n",
      "+-----------------------------------+\n",
      "|Cybersecurity                      |\n",
      "|E-commerce & direct-to-consumer    |\n",
      "|Artificial intelligence            |\n",
      "|Travel                             |\n",
      "|Health                             |\n",
      "|Fintech                            |\n",
      "|Edtech                             |\n",
      "|Data management & analytics        |\n",
      "|Auto & transportation              |\n",
      "|Other                              |\n",
      "|Supply chain, logistics, & delivery|\n",
      "|Mobile & telecommunications        |\n",
      "|Finttech                           |\n",
      "|Artificial Intelligence            |\n",
      "|Internet software & services       |\n",
      "|Hardware                           |\n",
      "|Consumer & retail                  |\n",
      "+-----------------------------------+\n",
      "\n"
     ]
    }
   ],
   "source": [
    "df.select('Category').distinct().show(truncate=False)"
   ]
  },
  {
   "cell_type": "markdown",
   "metadata": {
    "id": "69v6imOU7YsY"
   },
   "source": [
    "Count and show distinct values as an array"
   ]
  },
  {
   "cell_type": "code",
   "execution_count": 28,
   "metadata": {
    "colab": {
     "base_uri": "https://localhost:8080/"
    },
    "executionInfo": {
     "elapsed": 463,
     "status": "ok",
     "timestamp": 1660199552115,
     "user": {
      "displayName": "Cainã Max Couto-Silva",
      "userId": "10965485795191366596"
     },
     "user_tz": 180
    },
    "id": "tPp5ZU6OG7t7",
    "outputId": "c0574b7d-1b37-438f-afcf-88ee335c43d1"
   },
   "outputs": [
    {
     "name": "stdout",
     "output_type": "stream",
     "text": [
      "+------------------------+---------------------+\n",
      "|count(DISTINCT Category)|collect_set(Category)|\n",
      "+------------------------+---------------------+\n",
      "|                      17| [Cybersecurity, H...|\n",
      "+------------------------+---------------------+\n",
      "\n"
     ]
    }
   ],
   "source": [
    "df.select(F.countDistinct('Category'), F.collect_set('Category')).show()"
   ]
  },
  {
   "cell_type": "markdown",
   "metadata": {
    "id": "pdDIzJwU7uBB"
   },
   "source": [
    "Drop duplicates"
   ]
  },
  {
   "cell_type": "code",
   "execution_count": 29,
   "metadata": {
    "colab": {
     "base_uri": "https://localhost:8080/"
    },
    "executionInfo": {
     "elapsed": 785,
     "status": "ok",
     "timestamp": 1660199552897,
     "user": {
      "displayName": "Cainã Max Couto-Silva",
      "userId": "10965485795191366596"
     },
     "user_tz": 180
    },
    "id": "gznK7uVoEuiO",
    "outputId": "fdcaa412-1dd9-4574-e28c-ea955207822a"
   },
   "outputs": [
    {
     "name": "stdout",
     "output_type": "stream",
     "text": [
      "+--------------------+---------+----------+--------------+--------------------+--------------------+\n",
      "|             Company|Valuation|Date_Added|       Country|            Category|    Select_Investors|\n",
      "+--------------------+---------+----------+--------------+--------------------+--------------------+\n",
      "|               Owkin|      1.0|2021-11-18| United States|Artificial Intell...|Google Ventures, ...|\n",
      "|               Faire|     12.4|2019-10-30| United States|Artificial intell...|Khosla Ventures, ...|\n",
      "|             ENOVATE|     1.85|2019-04-15|         China|Auto & transporta...|Automobile Indust...|\n",
      "|             BrewDog|     1.24|2017-04-10|United Kingdom|   Consumer & retail|TSG Consumer Part...|\n",
      "|              Stytch|      1.0|2021-11-18| United States|       Cybersecurity|Index Ventures, B...|\n",
      "|            Cohesity|      3.7|2018-06-11| United States|Data management &...|SoftBank Group, S...|\n",
      "|             Mia.com|      1.0|2015-09-08|         China|E-commerce & dire...|Sequoia Capital C...|\n",
      "|           Zuoyebang|      3.0|2018-07-18|         China|              Edtech|Sequoia Capital C...|\n",
      "|      Human Interest|      1.0|2021-08-04| United States|             Fintech|Wing Venture Capi...|\n",
      "|Digital Currency ...|     10.0|2021-11-01| United States|            Finttech|Ribbit Capital, c...|\n",
      "|             Enflame|     1.24|2021-01-05|         China|            Hardware|Tencent Holdings,...|\n",
      "|            Unite Us|      1.7|2021-03-17| United States|              Health|Insight Partners,...|\n",
      "|           Handshake|      1.5|2021-05-12| United States|Internet software...|Kleiner Perkins C...|\n",
      "|           Attentive|     5.99|2020-09-23| United States|Mobile & telecomm...|NextView Ventures...|\n",
      "|        Red Ventures|      1.0|2015-01-07| United States|               Other|Silver Lake Partn...|\n",
      "|           Instacart|     39.0|2014-12-30| United States|Supply chain, log...|Khosla Ventures, ...|\n",
      "|            Mafengwo|      2.0|2019-05-23|         China|              Travel|Qiming Venture Pa...|\n",
      "+--------------------+---------+----------+--------------+--------------------+--------------------+\n",
      "\n"
     ]
    }
   ],
   "source": [
    "df.drop_duplicates(subset=['Category']).show()"
   ]
  },
  {
   "cell_type": "markdown",
   "metadata": {
    "id": "v2P6rgVSJ0yq"
   },
   "source": [
    "## Join"
   ]
  },
  {
   "cell_type": "code",
   "execution_count": 30,
   "metadata": {
    "colab": {
     "base_uri": "https://localhost:8080/"
    },
    "executionInfo": {
     "elapsed": 673,
     "status": "ok",
     "timestamp": 1660199553567,
     "user": {
      "displayName": "Cainã Max Couto-Silva",
      "userId": "10965485795191366596"
     },
     "user_tz": 180
    },
    "id": "AWNAuFUdJQy2",
    "outputId": "7c6174a3-4f0d-4654-9801-e9c9318fb58e"
   },
   "outputs": [
    {
     "name": "stdout",
     "output_type": "stream",
     "text": [
      "+-------------+--------------+---------+----------+--------------------+--------------------+---------------+--------+--------------------+--------+-------------+\n",
      "|      Country|       Company|Valuation|Date_Added|            Category|    Select_Investors|ISO_Alpha3_Code|M49_Code|            Region_1|Region_2|    Continent|\n",
      "+-------------+--------------+---------+----------+--------------------+--------------------+---------------+--------+--------------------+--------+-------------+\n",
      "|        China|       Enflame|     1.24|2021-01-05|            Hardware|Tencent Holdings,...|            CHN|     156|        Eastern Asia|    null|         Asia|\n",
      "|United States|Human Interest|      1.0|2021-08-04|             Fintech|Wing Venture Capi...|            USA|     840|    Northern America|    null|North America|\n",
      "|United States|     Attentive|     5.99|2020-09-23|Mobile & telecomm...|NextView Ventures...|            USA|     840|    Northern America|    null|North America|\n",
      "|United States|        Stytch|      1.0|2021-11-18|       Cybersecurity|Index Ventures, B...|            USA|     840|    Northern America|    null|North America|\n",
      "|        China|  Huisuanzhang|     1.28|2021-05-24|             Fintech|IDG Capital, Gaoc...|            CHN|     156|        Eastern Asia|    null|         Asia|\n",
      "|United States|     Handshake|      1.5|2021-05-12|Internet software...|Kleiner Perkins C...|            USA|     840|    Northern America|    null|North America|\n",
      "|United States|  Red Ventures|      1.0|2015-01-07|               Other|Silver Lake Partn...|            USA|     840|    Northern America|    null|North America|\n",
      "|        China|      Mafengwo|      2.0|2019-05-23|              Travel|Qiming Venture Pa...|            CHN|     156|        Eastern Asia|    null|         Asia|\n",
      "|        India|      BharatPe|     2.85|2021-07-30|             Fintech|Insight Partners,...|            IND|     356|       Southern Asia|    null|         Asia|\n",
      "|        China|       Mia.com|      1.0|2015-09-08|E-commerce & dire...|Sequoia Capital C...|            CHN|     156|        Eastern Asia|    null|         Asia|\n",
      "|United States|     Instacart|     39.0|2014-12-30|Supply chain, log...|Khosla Ventures, ...|            USA|     840|    Northern America|    null|North America|\n",
      "|United States|       Postman|      5.6|2020-06-11|Internet software...|Nexus Venture Par...|            USA|     840|    Northern America|    null|North America|\n",
      "|    Australia|   Culture Amp|      1.5|2021-07-29|Internet software...|Felicis Ventures,...|            AUS|      36|Australia and New...|    null|      Oceania|\n",
      "|United States|         Yotpo|      1.4|2021-03-18|Internet software...|Bessemer Venture ...|            USA|     840|    Northern America|    null|North America|\n",
      "|United States|         Stash|      1.4|2021-02-03|             Fintech|Goodwater Capital...|            USA|     840|    Northern America|    null|North America|\n",
      "|        China|         Womai|      1.0|2015-10-12|E-commerce & dire...|SAIF Partners Chi...|            CHN|     156|        Eastern Asia|    null|         Asia|\n",
      "|United States|Apeel Sciences|      2.0|2020-05-26|               Other|Upfront Ventures,...|            USA|     840|    Northern America|    null|North America|\n",
      "|      Vietnam|     Sky Mavis|      3.0|2021-10-04|Internet software...|Fabric Ventures, ...|            VNM|     704|  South-eastern Asia|    null|         Asia|\n",
      "|United States|      VideoAmp|      1.4|2021-10-21|Internet software...|Simon Equity Part...|            USA|     840|    Northern America|    null|North America|\n",
      "|United States|        Pacaso|      1.5|2021-03-24|             Fintech|Global Founders C...|            USA|     840|    Northern America|    null|North America|\n",
      "+-------------+--------------+---------+----------+--------------------+--------------------+---------------+--------+--------------------+--------+-------------+\n",
      "only showing top 20 rows\n",
      "\n"
     ]
    }
   ],
   "source": [
    "df.join(df_country, on='Country').show()"
   ]
  },
  {
   "cell_type": "markdown",
   "metadata": {
    "id": "VNfxB9E3-bTp"
   },
   "source": [
    "## -> Example Break point"
   ]
  },
  {
   "cell_type": "markdown",
   "metadata": {
    "id": "ShB3reiWKk-g"
   },
   "source": [
    "**Exemplo utilizando todo conteúdo mostrado acima**\n",
    "\n",
    "Considerando apenas empresas com avaliação maior que 1 bilhão de dólares, quantas empresas temos por continente? Estas empresas fazem parte de quantos países distintos no continente?"
   ]
  },
  {
   "cell_type": "code",
   "execution_count": 31,
   "metadata": {
    "colab": {
     "base_uri": "https://localhost:8080/"
    },
    "executionInfo": {
     "elapsed": 1111,
     "status": "ok",
     "timestamp": 1660199554676,
     "user": {
      "displayName": "Cainã Max Couto-Silva",
      "userId": "10965485795191366596"
     },
     "user_tz": 180
    },
    "id": "l-O3-Dj_JQmM",
    "outputId": "3d33188e-55a2-4305-80ee-fc76230c7ce0"
   },
   "outputs": [
    {
     "name": "stdout",
     "output_type": "stream",
     "text": [
      "+-------------+---------+------------------+\n",
      "|    Continent|n_country|total_observations|\n",
      "+-------------+---------+------------------+\n",
      "|       Europe|       17|                83|\n",
      "|         Asia|       14|               205|\n",
      "|North America|        4|               394|\n",
      "|South America|        4|                12|\n",
      "|       Africa|        3|                 3|\n",
      "|      Oceania|        1|                 4|\n",
      "+-------------+---------+------------------+\n",
      "\n"
     ]
    }
   ],
   "source": [
    "(\n",
    "  df\n",
    " .where('Valuation>1')\n",
    " .join(df_country, on='Country')\n",
    " .groupby('Continent')\n",
    " .agg(\n",
    "     F.countDistinct('Country').alias('n_country'),\n",
    "     F.count('*').alias('total_observations')\n",
    " )\n",
    " .orderBy(F.desc('n_country'))\n",
    " .show()\n",
    ")"
   ]
  },
  {
   "cell_type": "markdown",
   "metadata": {
    "id": "RmBwzLl7_lKt"
   },
   "source": [
    "## Add, update and rename columns"
   ]
  },
  {
   "cell_type": "markdown",
   "metadata": {
    "id": "1QRKPgV4_uPs"
   },
   "source": [
    "Add columns"
   ]
  },
  {
   "cell_type": "code",
   "execution_count": 32,
   "metadata": {
    "colab": {
     "base_uri": "https://localhost:8080/"
    },
    "executionInfo": {
     "elapsed": 480,
     "status": "ok",
     "timestamp": 1660199555154,
     "user": {
      "displayName": "Cainã Max Couto-Silva",
      "userId": "10965485795191366596"
     },
     "user_tz": 180
    },
    "id": "bGMCjeVg_1H_",
    "outputId": "6d3987aa-bc99-4c65-d1a9-632e998a47b9"
   },
   "outputs": [
    {
     "name": "stdout",
     "output_type": "stream",
     "text": [
      "+--------------+---------+----------+-------------+--------------------+--------------------+----+\n",
      "|       Company|Valuation|Date_Added|      Country|            Category|    Select_Investors|Year|\n",
      "+--------------+---------+----------+-------------+--------------------+--------------------+----+\n",
      "|       Enflame|     1.24|2021-01-05|        China|            Hardware|Tencent Holdings,...|2021|\n",
      "|Human Interest|      1.0|2021-08-04|United States|             Fintech|Wing Venture Capi...|2021|\n",
      "|     Attentive|     5.99|2020-09-23|United States|Mobile & telecomm...|NextView Ventures...|2020|\n",
      "|        Stytch|      1.0|2021-11-18|United States|       Cybersecurity|Index Ventures, B...|2021|\n",
      "|  Huisuanzhang|     1.28|2021-05-24|        China|             Fintech|IDG Capital, Gaoc...|2021|\n",
      "+--------------+---------+----------+-------------+--------------------+--------------------+----+\n",
      "only showing top 5 rows\n",
      "\n"
     ]
    }
   ],
   "source": [
    "df.withColumn('Year', F.year('Date_Added')).show(5)"
   ]
  },
  {
   "cell_type": "markdown",
   "metadata": {
    "id": "dMsKA7dSA096"
   },
   "source": [
    "Add multiple columns with pyspark chain syntax *plus* `collect` (valuation_mean)"
   ]
  },
  {
   "cell_type": "code",
   "execution_count": 33,
   "metadata": {
    "colab": {
     "base_uri": "https://localhost:8080/"
    },
    "executionInfo": {
     "elapsed": 409,
     "status": "ok",
     "timestamp": 1660199555560,
     "user": {
      "displayName": "Cainã Max Couto-Silva",
      "userId": "10965485795191366596"
     },
     "user_tz": 180
    },
    "id": "0v_5shVCA393",
    "outputId": "50b6d5a3-a6fb-4a6e-a2a9-782e89e0e16f"
   },
   "outputs": [
    {
     "name": "stdout",
     "output_type": "stream",
     "text": [
      "+--------------+---------+----------+-------------+--------------------+--------------------+----+------------------+\n",
      "|       Company|Valuation|Date_Added|      Country|            Category|    Select_Investors|Year|    Valuation_mean|\n",
      "+--------------+---------+----------+-------------+--------------------+--------------------+----+------------------+\n",
      "|       Enflame|     1.24|2021-01-05|        China|            Hardware|Tencent Holdings,...|2021|3.3116902944383892|\n",
      "|Human Interest|      1.0|2021-08-04|United States|             Fintech|Wing Venture Capi...|2021|3.3116902944383892|\n",
      "|     Attentive|     5.99|2020-09-23|United States|Mobile & telecomm...|NextView Ventures...|2020|3.3116902944383892|\n",
      "|        Stytch|      1.0|2021-11-18|United States|       Cybersecurity|Index Ventures, B...|2021|3.3116902944383892|\n",
      "|  Huisuanzhang|     1.28|2021-05-24|        China|             Fintech|IDG Capital, Gaoc...|2021|3.3116902944383892|\n",
      "+--------------+---------+----------+-------------+--------------------+--------------------+----+------------------+\n",
      "only showing top 5 rows\n",
      "\n"
     ]
    }
   ],
   "source": [
    "valuation_mean = df.select(F.mean('Valuation')).collect()[0][0]\n",
    "\n",
    "(\n",
    "  df\n",
    " .withColumn('Year', F.year('Date_Added'))\n",
    " .withColumn('Valuation_mean', F.lit(valuation_mean))\n",
    " .show(5)\n",
    ")"
   ]
  },
  {
   "cell_type": "markdown",
   "metadata": {
    "id": "NTAqF6PIE3wD"
   },
   "source": [
    "Rename column"
   ]
  },
  {
   "cell_type": "code",
   "execution_count": 34,
   "metadata": {
    "colab": {
     "base_uri": "https://localhost:8080/"
    },
    "executionInfo": {
     "elapsed": 241,
     "status": "ok",
     "timestamp": 1660199555798,
     "user": {
      "displayName": "Cainã Max Couto-Silva",
      "userId": "10965485795191366596"
     },
     "user_tz": 180
    },
    "id": "jl-ZFTlFAE62",
    "outputId": "46c268fd-3739-469a-f2e8-4c7ded130d4d"
   },
   "outputs": [
    {
     "name": "stdout",
     "output_type": "stream",
     "text": [
      "+--------------+---------+----------+-------------+--------------------+--------------------+\n",
      "|       Company|Valuation|      Date|      Country|            Category|    Select_Investors|\n",
      "+--------------+---------+----------+-------------+--------------------+--------------------+\n",
      "|       Enflame|     1.24|2021-01-05|        China|            Hardware|Tencent Holdings,...|\n",
      "|Human Interest|      1.0|2021-08-04|United States|             Fintech|Wing Venture Capi...|\n",
      "|     Attentive|     5.99|2020-09-23|United States|Mobile & telecomm...|NextView Ventures...|\n",
      "|        Stytch|      1.0|2021-11-18|United States|       Cybersecurity|Index Ventures, B...|\n",
      "|  Huisuanzhang|     1.28|2021-05-24|        China|             Fintech|IDG Capital, Gaoc...|\n",
      "+--------------+---------+----------+-------------+--------------------+--------------------+\n",
      "only showing top 5 rows\n",
      "\n"
     ]
    }
   ],
   "source": [
    "df.withColumnRenamed('Date_Added', 'Date').show(5)"
   ]
  },
  {
   "cell_type": "markdown",
   "metadata": {
    "id": "dvDCTmNyNa5B"
   },
   "source": [
    "## Filtering/detecting patterns"
   ]
  },
  {
   "cell_type": "markdown",
   "metadata": {
    "id": "2vtPBokFNZaU"
   },
   "source": [
    "`lower`/`upper` + `contains`"
   ]
  },
  {
   "cell_type": "code",
   "execution_count": 35,
   "metadata": {
    "colab": {
     "base_uri": "https://localhost:8080/"
    },
    "executionInfo": {
     "elapsed": 740,
     "status": "ok",
     "timestamp": 1660199556535,
     "user": {
      "displayName": "Cainã Max Couto-Silva",
      "userId": "10965485795191366596"
     },
     "user_tz": 180
    },
    "id": "IvGtnAhRIzpU",
    "outputId": "c02e152f-d312-4de3-f03d-b929ae2a8873"
   },
   "outputs": [
    {
     "name": "stdout",
     "output_type": "stream",
     "text": [
      "+-----------------------+\n",
      "|Category               |\n",
      "+-----------------------+\n",
      "|Artificial intelligence|\n",
      "|Artificial Intelligence|\n",
      "+-----------------------+\n",
      "\n"
     ]
    }
   ],
   "source": [
    "(\n",
    "  df\n",
    " .filter(F.lower('Category').contains('art'))\n",
    " .select('Category')\n",
    " .distinct()\n",
    " .show(truncate=False)\n",
    ")"
   ]
  },
  {
   "cell_type": "markdown",
   "metadata": {
    "id": "gDTqYQeq-6Ok"
   },
   "source": [
    "Replace values using either `withColumn`/`F.regexp_replace` or `replace`"
   ]
  },
  {
   "cell_type": "code",
   "execution_count": 36,
   "metadata": {
    "executionInfo": {
     "elapsed": 6,
     "status": "ok",
     "timestamp": 1660199556535,
     "user": {
      "displayName": "Cainã Max Couto-Silva",
      "userId": "10965485795191366596"
     },
     "user_tz": 180
    },
    "id": "e1hx1WT7Ol55"
   },
   "outputs": [],
   "source": [
    "df = df.withColumn('Category', F.regexp_replace('Category', 'intelligence', 'Intelligence'))\n",
    "# df.replace({'Artificial intelligence': 'Artificial Intelligence'}, subset=['Category'])"
   ]
  },
  {
   "cell_type": "code",
   "execution_count": 37,
   "metadata": {
    "colab": {
     "base_uri": "https://localhost:8080/"
    },
    "executionInfo": {
     "elapsed": 401,
     "status": "ok",
     "timestamp": 1660199556932,
     "user": {
      "displayName": "Cainã Max Couto-Silva",
      "userId": "10965485795191366596"
     },
     "user_tz": 180
    },
    "id": "8Le5FMbDOBss",
    "outputId": "83ebf384-62ab-426d-a118-2783d09520fa"
   },
   "outputs": [
    {
     "name": "stdout",
     "output_type": "stream",
     "text": [
      "+-----------------------------------+\n",
      "|Category                           |\n",
      "+-----------------------------------+\n",
      "|Cybersecurity                      |\n",
      "|E-commerce & direct-to-consumer    |\n",
      "|Travel                             |\n",
      "|Health                             |\n",
      "|Fintech                            |\n",
      "|Edtech                             |\n",
      "|Data management & analytics        |\n",
      "|Auto & transportation              |\n",
      "|Other                              |\n",
      "|Supply chain, logistics, & delivery|\n",
      "|Mobile & telecommunications        |\n",
      "|Finttech                           |\n",
      "|Artificial Intelligence            |\n",
      "|Internet software & services       |\n",
      "|Hardware                           |\n",
      "|Consumer & retail                  |\n",
      "+-----------------------------------+\n",
      "\n"
     ]
    }
   ],
   "source": [
    "df.select('Category').distinct().show(truncate=False)"
   ]
  },
  {
   "cell_type": "markdown",
   "metadata": {
    "id": "CJbGsqEaj5X4"
   },
   "source": [
    "## Case when"
   ]
  },
  {
   "cell_type": "code",
   "execution_count": 38,
   "metadata": {
    "colab": {
     "base_uri": "https://localhost:8080/"
    },
    "executionInfo": {
     "elapsed": 245,
     "status": "ok",
     "timestamp": 1660199557173,
     "user": {
      "displayName": "Cainã Max Couto-Silva",
      "userId": "10965485795191366596"
     },
     "user_tz": 180
    },
    "id": "DyAWiq5gj4z8",
    "outputId": "08eb38bf-e9c6-45f5-cd5d-ed881c953ad7"
   },
   "outputs": [
    {
     "name": "stdout",
     "output_type": "stream",
     "text": [
      "+--------------+---------+----------+-------------+--------------------+--------------------+------------------+\n",
      "|       Company|Valuation|Date_Added|      Country|            Category|    Select_Investors|Valuation_category|\n",
      "+--------------+---------+----------+-------------+--------------------+--------------------+------------------+\n",
      "|       Enflame|     1.24|2021-01-05|        China|            Hardware|Tencent Holdings,...|                10|\n",
      "|Human Interest|      1.0|2021-08-04|United States|             Fintech|Wing Venture Capi...|                10|\n",
      "|     Attentive|     5.99|2020-09-23|United States|Mobile & telecomm...|NextView Ventures...|                10|\n",
      "|        Stytch|      1.0|2021-11-18|United States|       Cybersecurity|Index Ventures, B...|                10|\n",
      "|  Huisuanzhang|     1.28|2021-05-24|        China|             Fintech|IDG Capital, Gaoc...|                10|\n",
      "|     Handshake|      1.5|2021-05-12|United States|Internet software...|Kleiner Perkins C...|                10|\n",
      "|  Red Ventures|      1.0|2015-01-07|United States|               Other|Silver Lake Partn...|                10|\n",
      "|      Mafengwo|      2.0|2019-05-23|        China|              Travel|Qiming Venture Pa...|                10|\n",
      "|      BharatPe|     2.85|2021-07-30|        India|             Fintech|Insight Partners,...|                10|\n",
      "|       Mia.com|      1.0|2015-09-08|        China|E-commerce & dire...|Sequoia Capital C...|                10|\n",
      "|     Instacart|     39.0|2014-12-30|United States|Supply chain, log...|Khosla Ventures, ...|                40|\n",
      "|       Postman|      5.6|2020-06-11|United States|Internet software...|Nexus Venture Par...|                10|\n",
      "|   Culture Amp|      1.5|2021-07-29|    Australia|Internet software...|Felicis Ventures,...|                10|\n",
      "|         Yotpo|      1.4|2021-03-18|United States|Internet software...|Bessemer Venture ...|                10|\n",
      "|         Stash|      1.4|2021-02-03|United States|             Fintech|Goodwater Capital...|                10|\n",
      "|         Womai|      1.0|2015-10-12|        China|E-commerce & dire...|SAIF Partners Chi...|                10|\n",
      "|Apeel Sciences|      2.0|2020-05-26|United States|               Other|Upfront Ventures,...|                10|\n",
      "|     Sky Mavis|      3.0|2021-10-04|      Vietnam|Internet software...|Fabric Ventures, ...|                10|\n",
      "|      VideoAmp|      1.4|2021-10-21|United States|Internet software...|Simon Equity Part...|                10|\n",
      "|        Pacaso|      1.5|2021-03-24|United States|             Fintech|Global Founders C...|                10|\n",
      "+--------------+---------+----------+-------------+--------------------+--------------------+------------------+\n",
      "only showing top 20 rows\n",
      "\n"
     ]
    }
   ],
   "source": [
    "(\n",
    "  df\n",
    " .withColumn(\n",
    "     'Valuation_category',\n",
    "     F.when(F.col('Valuation')<10, '10')\n",
    "     .when(F.col('Valuation')<20, '20')\n",
    "     .when(F.col('Valuation')<30, '30')\n",
    "     .when(F.col('Valuation')<40, '40')\n",
    "     .when(F.col('Valuation')<50, '50')\n",
    "     .otherwise('50+')\n",
    "     )\n",
    " .show()\n",
    ")"
   ]
  },
  {
   "cell_type": "markdown",
   "metadata": {
    "id": "zL7shDuDXFUO"
   },
   "source": [
    "## Window functions"
   ]
  },
  {
   "cell_type": "markdown",
   "metadata": {
    "id": "wiip6DCoGJhb"
   },
   "source": [
    "![](https://sparkbyexamples.com/wp-content/uploads/2019/12/spark-sql-window-functions-768x435.jpg)\n",
    "\n",
    "[Source](https://sparkbyexamples.com/spark/spark-sql-window-functions/): Spark by examples"
   ]
  },
  {
   "cell_type": "code",
   "execution_count": 39,
   "metadata": {
    "colab": {
     "base_uri": "https://localhost:8080/"
    },
    "executionInfo": {
     "elapsed": 1023,
     "status": "ok",
     "timestamp": 1660199558194,
     "user": {
      "displayName": "Cainã Max Couto-Silva",
      "userId": "10965485795191366596"
     },
     "user_tz": 180
    },
    "id": "35dlar0-XEvw",
    "outputId": "40235a2e-8674-4181-adcf-9e4bac659169"
   },
   "outputs": [
    {
     "name": "stdout",
     "output_type": "stream",
     "text": [
      "+---------+---+--------------+-----------------------------------+---------+\n",
      "|Country  |rn |Company       |Category                           |Valuation|\n",
      "+---------+---+--------------+-----------------------------------+---------+\n",
      "|Argentina|1  |Uala          |Fintech                            |2.45     |\n",
      "|Australia|1  |Canva         |Internet software & services       |40.0     |\n",
      "|Australia|2  |Airwallex     |Fintech                            |5.5      |\n",
      "|Australia|3  |SafetyCulture |Internet software & services       |1.6      |\n",
      "|Austria  |1  |BitPanda      |Fintech                            |4.11     |\n",
      "|Austria  |2  |GoStudent     |Edtech                             |1.7      |\n",
      "|Belgium  |1  |Collibra      |Data management & analytics        |5.25     |\n",
      "|Belgium  |2  |Odoo          |Internet software & services       |2.3      |\n",
      "|Bermuda  |1  |Afiniti       |Artificial Intelligence            |1.6      |\n",
      "|Brazil   |1  |Nubank        |Fintech                            |30.0     |\n",
      "|Brazil   |2  |QuintoAndar   |E-commerce & direct-to-consumer    |5.1      |\n",
      "|Brazil   |3  |C6 Bank       |Fintech                            |5.05     |\n",
      "|Canada   |1  |Dapper Labs   |Fintech                            |7.6      |\n",
      "|Canada   |2  |SSENSE        |E-commerce & direct-to-consumer    |4.15     |\n",
      "|Canada   |3  |PointClickCare|Internet software & services       |4.0      |\n",
      "|Chile    |1  |NotCo         |Artificial Intelligence            |1.5      |\n",
      "|China    |1  |Bytedance     |Artificial Intelligence            |140.0    |\n",
      "|China    |2  |Xiaohongshu   |E-commerce & direct-to-consumer    |20.0     |\n",
      "|China    |3  |Yuanfudao     |Edtech                             |15.5     |\n",
      "|Colombia |1  |Rappi         |Supply chain, logistics, & delivery|5.25     |\n",
      "+---------+---+--------------+-----------------------------------+---------+\n",
      "only showing top 20 rows\n",
      "\n"
     ]
    }
   ],
   "source": [
    "w = Window().partitionBy('Country').orderBy(F.desc('Valuation'))\n",
    "\n",
    "df_top3_by_country = (\n",
    "  df\n",
    " .withColumn('rn', F.row_number().over(w))\n",
    " .where('rn <= 3')\n",
    " .select('Country','rn','Company','Category','Valuation')\n",
    " .orderBy('Country','rn')\n",
    ")\n",
    "\n",
    "df_top3_by_country.show(truncate=False)"
   ]
  },
  {
   "cell_type": "markdown",
   "metadata": {
    "id": "JnXSi9rhh9K1"
   },
   "source": [
    "`Lag` / `lead` functions"
   ]
  },
  {
   "cell_type": "code",
   "execution_count": 40,
   "metadata": {
    "colab": {
     "base_uri": "https://localhost:8080/"
    },
    "executionInfo": {
     "elapsed": 1328,
     "status": "ok",
     "timestamp": 1660199559519,
     "user": {
      "displayName": "Cainã Max Couto-Silva",
      "userId": "10965485795191366596"
     },
     "user_tz": 180
    },
    "id": "Bg309Ao3g-C1",
    "outputId": "4d83541b-053c-4fdd-ebbe-fea3d82f48fb"
   },
   "outputs": [
    {
     "name": "stdout",
     "output_type": "stream",
     "text": [
      "+---------+---+---------+-------------+--------------+\n",
      "|  Country| rn|Valuation|Valuation_lag|Valuation_lead|\n",
      "+---------+---+---------+-------------+--------------+\n",
      "|Argentina|  1|     2.45|         null|          null|\n",
      "|Australia|  1|     40.0|         null|           5.5|\n",
      "|Australia|  2|      5.5|         40.0|           1.6|\n",
      "|Australia|  3|      1.6|          5.5|          null|\n",
      "|  Austria|  1|     4.11|         null|           1.7|\n",
      "|  Austria|  2|      1.7|         4.11|          null|\n",
      "|  Belgium|  1|     5.25|         null|           2.3|\n",
      "|  Belgium|  2|      2.3|         5.25|          null|\n",
      "|  Bermuda|  1|      1.6|         null|          null|\n",
      "|   Brazil|  1|     30.0|         null|           5.1|\n",
      "|   Brazil|  2|      5.1|         30.0|          5.05|\n",
      "|   Brazil|  3|     5.05|          5.1|          null|\n",
      "|   Canada|  1|      7.6|         null|          4.15|\n",
      "|   Canada|  2|     4.15|          7.6|           4.0|\n",
      "|   Canada|  3|      4.0|         4.15|          null|\n",
      "|    Chile|  1|      1.5|         null|          null|\n",
      "|    China|  1|    140.0|         null|          20.0|\n",
      "|    China|  2|     20.0|        140.0|          15.5|\n",
      "|    China|  3|     15.5|         20.0|          null|\n",
      "| Colombia|  1|     5.25|         null|          1.15|\n",
      "+---------+---+---------+-------------+--------------+\n",
      "only showing top 20 rows\n",
      "\n"
     ]
    }
   ],
   "source": [
    "w = Window().partitionBy('Country').orderBy('rn')\n",
    "\n",
    "(\n",
    "  df_top3_by_country\n",
    " .withColumn('Valuation_lag', F.lag('Valuation').over(w))\n",
    " .withColumn('Valuation_lead', F.lead('Valuation').over(w))\n",
    " .orderBy('Country','rn')\n",
    " .drop('Company','Category')\n",
    " .show()\n",
    ")"
   ]
  },
  {
   "cell_type": "markdown",
   "metadata": {
    "id": "Y6czJE3QHBxZ"
   },
   "source": [
    "## Pivot table"
   ]
  },
  {
   "cell_type": "code",
   "execution_count": 41,
   "metadata": {
    "colab": {
     "base_uri": "https://localhost:8080/"
    },
    "executionInfo": {
     "elapsed": 1378,
     "status": "ok",
     "timestamp": 1660199560895,
     "user": {
      "displayName": "Cainã Max Couto-Silva",
      "userId": "10965485795191366596"
     },
     "user_tz": 180
    },
    "id": "sl9ZJ4gkHA0L",
    "outputId": "544e2187-b169-4d41-b956-26e0b82708b8"
   },
   "outputs": [
    {
     "name": "stdout",
     "output_type": "stream",
     "text": [
      "+--------------+-----------+--------------------+--------------------------+\n",
      "|Country       |1          |2                   |3                         |\n",
      "+--------------+-----------+--------------------+--------------------------+\n",
      "|Argentina     |Uala       |null                |null                      |\n",
      "|Australia     |Canva      |Airwallex           |SafetyCulture             |\n",
      "|Austria       |BitPanda   |GoStudent           |null                      |\n",
      "|Belgium       |Collibra   |Odoo                |null                      |\n",
      "|Bermuda       |Afiniti    |null                |null                      |\n",
      "|Brazil        |Nubank     |QuintoAndar         |C6 Bank                   |\n",
      "|Canada        |Dapper Labs|SSENSE              |PointClickCare            |\n",
      "|Chile         |NotCo      |null                |null                      |\n",
      "|China         |Bytedance  |Xiaohongshu         |Yuanfudao                 |\n",
      "|Colombia      |Rappi      |LifeMiles           |null                      |\n",
      "|Croatia       |Infobip    |null                |null                      |\n",
      "|Czech Republic|Rohlik     |null                |null                      |\n",
      "|Denmark       |Pleo       |Lunar               |null                      |\n",
      "|Estonia       |Bolt       |null                |null                      |\n",
      "|Finland       |Aiven      |HMD Global          |null                      |\n",
      "|France        |Sorare     |Mirakl              |Back Market               |\n",
      "|Germany       |Celonis    |N26                 |Personio                  |\n",
      "|Hong Kong     |FTX        |Lalamove            |Trendy Group International|\n",
      "|India         |BYJU's     |One97 Communications|OYO Rooms                 |\n",
      "|Indonesia     |J&T Express|Traveloka           |Ovo                       |\n",
      "+--------------+-----------+--------------------+--------------------------+\n",
      "only showing top 20 rows\n",
      "\n"
     ]
    }
   ],
   "source": [
    "df_top3_by_country.groupby('Country').pivot('rn').agg(F.first('Company')).show(truncate=False)"
   ]
  },
  {
   "cell_type": "markdown",
   "metadata": {
    "id": "b4W95zOQLHFj"
   },
   "source": [
    "## Pandas API on Spark"
   ]
  },
  {
   "cell_type": "code",
   "execution_count": 42,
   "metadata": {
    "colab": {
     "base_uri": "https://localhost:8080/",
     "height": 244
    },
    "executionInfo": {
     "elapsed": 1271,
     "status": "ok",
     "timestamp": 1660199562160,
     "user": {
      "displayName": "Cainã Max Couto-Silva",
      "userId": "10965485795191366596"
     },
     "user_tz": 180
    },
    "id": "LMQFsjXaLGPc",
    "outputId": "5d7ac655-c321-4dd9-aa33-4af769056415"
   },
   "outputs": [
    {
     "name": "stderr",
     "output_type": "stream",
     "text": [
      "WARNING:root:'PYARROW_IGNORE_TIMEZONE' environment variable was not set. It is required to set this environment variable to '1' in both driver and executor sides if you use pyarrow>=2.0.0. pandas-on-Spark will set it for you but it does not work if there is a Spark context already launched.\n"
     ]
    },
    {
     "data": {
      "text/html": [
       "<div>\n",
       "<style scoped>\n",
       "    .dataframe tbody tr th:only-of-type {\n",
       "        vertical-align: middle;\n",
       "    }\n",
       "\n",
       "    .dataframe tbody tr th {\n",
       "        vertical-align: top;\n",
       "    }\n",
       "\n",
       "    .dataframe thead th {\n",
       "        text-align: right;\n",
       "    }\n",
       "</style>\n",
       "<table border=\"1\" class=\"dataframe\">\n",
       "  <thead>\n",
       "    <tr style=\"text-align: right;\">\n",
       "      <th></th>\n",
       "      <th>Company</th>\n",
       "      <th>Valuation</th>\n",
       "      <th>Date_Added</th>\n",
       "      <th>Country</th>\n",
       "      <th>Category</th>\n",
       "      <th>Select_Investors</th>\n",
       "    </tr>\n",
       "  </thead>\n",
       "  <tbody>\n",
       "    <tr>\n",
       "      <th>0</th>\n",
       "      <td>Enflame</td>\n",
       "      <td>1.24</td>\n",
       "      <td>2021-01-05</td>\n",
       "      <td>China</td>\n",
       "      <td>Hardware</td>\n",
       "      <td>Tencent Holdings, Delta Capital, Redpoint Vent...</td>\n",
       "    </tr>\n",
       "    <tr>\n",
       "      <th>1</th>\n",
       "      <td>Human Interest</td>\n",
       "      <td>1.00</td>\n",
       "      <td>2021-08-04</td>\n",
       "      <td>United States</td>\n",
       "      <td>Fintech</td>\n",
       "      <td>Wing Venture Capital, Slow Ventures, Uncork Ca...</td>\n",
       "    </tr>\n",
       "    <tr>\n",
       "      <th>2</th>\n",
       "      <td>Attentive</td>\n",
       "      <td>5.99</td>\n",
       "      <td>2020-09-23</td>\n",
       "      <td>United States</td>\n",
       "      <td>Mobile &amp; telecommunications</td>\n",
       "      <td>NextView Ventures, Eniac Ventures, Sequoia Cap...</td>\n",
       "    </tr>\n",
       "    <tr>\n",
       "      <th>3</th>\n",
       "      <td>Stytch</td>\n",
       "      <td>1.00</td>\n",
       "      <td>2021-11-18</td>\n",
       "      <td>United States</td>\n",
       "      <td>Cybersecurity</td>\n",
       "      <td>Index Ventures, Benchmark, Thrive Capital</td>\n",
       "    </tr>\n",
       "    <tr>\n",
       "      <th>4</th>\n",
       "      <td>Huisuanzhang</td>\n",
       "      <td>1.28</td>\n",
       "      <td>2021-05-24</td>\n",
       "      <td>China</td>\n",
       "      <td>Fintech</td>\n",
       "      <td>IDG Capital, Gaocheng Capital, Chuanrong Capital</td>\n",
       "    </tr>\n",
       "  </tbody>\n",
       "</table>\n",
       "</div>"
      ],
      "text/plain": [
       "          Company  Valuation  Date_Added        Country                     Category                                          Select_Investors\n",
       "0         Enflame       1.24  2021-01-05          China                     Hardware  Tencent Holdings, Delta Capital, Redpoint Ventures China\n",
       "1  Human Interest       1.00  2021-08-04  United States                      Fintech       Wing Venture Capital, Slow Ventures, Uncork Capital\n",
       "2       Attentive       5.99  2020-09-23  United States  Mobile & telecommunications        NextView Ventures, Eniac Ventures, Sequoia Capital\n",
       "3          Stytch       1.00  2021-11-18  United States                Cybersecurity                 Index Ventures, Benchmark, Thrive Capital\n",
       "4    Huisuanzhang       1.28  2021-05-24          China                      Fintech          IDG Capital, Gaocheng Capital, Chuanrong Capital"
      ]
     },
     "execution_count": 42,
     "metadata": {},
     "output_type": "execute_result"
    }
   ],
   "source": [
    "df.pandas_api().head() # to_koalas, to_pandas_on_spark, pandas_api"
   ]
  },
  {
   "cell_type": "code",
   "execution_count": 43,
   "metadata": {
    "colab": {
     "base_uri": "https://localhost:8080/",
     "height": 394
    },
    "executionInfo": {
     "elapsed": 686,
     "status": "ok",
     "timestamp": 1660199562843,
     "user": {
      "displayName": "Cainã Max Couto-Silva",
      "userId": "10965485795191366596"
     },
     "user_tz": 180
    },
    "id": "eoF-N0AxLbnM",
    "outputId": "0fc90b6c-8d97-426a-e1d4-6a05b8121441"
   },
   "outputs": [
    {
     "data": {
      "text/html": [
       "<div>\n",
       "<style scoped>\n",
       "    .dataframe tbody tr th:only-of-type {\n",
       "        vertical-align: middle;\n",
       "    }\n",
       "\n",
       "    .dataframe tbody tr th {\n",
       "        vertical-align: top;\n",
       "    }\n",
       "\n",
       "    .dataframe thead th {\n",
       "        text-align: right;\n",
       "    }\n",
       "</style>\n",
       "<table border=\"1\" class=\"dataframe\">\n",
       "  <thead>\n",
       "    <tr style=\"text-align: right;\">\n",
       "      <th></th>\n",
       "      <th></th>\n",
       "      <th>Valuation</th>\n",
       "    </tr>\n",
       "    <tr>\n",
       "      <th>Country</th>\n",
       "      <th>Category</th>\n",
       "      <th></th>\n",
       "    </tr>\n",
       "  </thead>\n",
       "  <tbody>\n",
       "    <tr>\n",
       "      <th>India</th>\n",
       "      <th>Supply chain, logistics, &amp; delivery</th>\n",
       "      <td>14.68</td>\n",
       "    </tr>\n",
       "    <tr>\n",
       "      <th>Colombia</th>\n",
       "      <th>Other</th>\n",
       "      <td>1.15</td>\n",
       "    </tr>\n",
       "    <tr>\n",
       "      <th>United Kingdom</th>\n",
       "      <th>Cybersecurity</th>\n",
       "      <td>8.60</td>\n",
       "    </tr>\n",
       "    <tr>\n",
       "      <th>United States</th>\n",
       "      <th>E-commerce &amp; direct-to-consumer</th>\n",
       "      <td>83.67</td>\n",
       "    </tr>\n",
       "    <tr>\n",
       "      <th>South Africa</th>\n",
       "      <th>Consumer &amp; retail</th>\n",
       "      <td>1.59</td>\n",
       "    </tr>\n",
       "    <tr>\n",
       "      <th>India</th>\n",
       "      <th>Edtech</th>\n",
       "      <td>29.84</td>\n",
       "    </tr>\n",
       "    <tr>\n",
       "      <th>Norway</th>\n",
       "      <th>E-commerce &amp; direct-to-consumer</th>\n",
       "      <td>2.20</td>\n",
       "    </tr>\n",
       "    <tr>\n",
       "      <th>South Korea</th>\n",
       "      <th>Fintech</th>\n",
       "      <td>8.40</td>\n",
       "    </tr>\n",
       "    <tr>\n",
       "      <th>Israel</th>\n",
       "      <th>Fintech</th>\n",
       "      <td>8.00</td>\n",
       "    </tr>\n",
       "    <tr>\n",
       "      <th>China</th>\n",
       "      <th>Edtech</th>\n",
       "      <td>33.83</td>\n",
       "    </tr>\n",
       "  </tbody>\n",
       "</table>\n",
       "</div>"
      ],
      "text/plain": [
       "                                                    Valuation\n",
       "Country        Category                                      \n",
       "India          Supply chain, logistics, & delivery      14.68\n",
       "Colombia       Other                                     1.15\n",
       "United Kingdom Cybersecurity                             8.60\n",
       "United States  E-commerce & direct-to-consumer          83.67\n",
       "South Africa   Consumer & retail                         1.59\n",
       "India          Edtech                                   29.84\n",
       "Norway         E-commerce & direct-to-consumer           2.20\n",
       "South Korea    Fintech                                   8.40\n",
       "Israel         Fintech                                   8.00\n",
       "China          Edtech                                   33.83"
      ]
     },
     "execution_count": 43,
     "metadata": {},
     "output_type": "execute_result"
    }
   ],
   "source": [
    "df.pandas_api().groupby(['Country','Category'])[['Valuation']].sum().head(10)"
   ]
  },
  {
   "cell_type": "markdown",
   "metadata": {
    "id": "3IDe5_zWTeor"
   },
   "source": [
    "### Plot using pandas API"
   ]
  },
  {
   "cell_type": "code",
   "execution_count": 44,
   "metadata": {
    "colab": {
     "base_uri": "https://localhost:8080/",
     "height": 542
    },
    "executionInfo": {
     "elapsed": 3425,
     "status": "ok",
     "timestamp": 1660199566262,
     "user": {
      "displayName": "Cainã Max Couto-Silva",
      "userId": "10965485795191366596"
     },
     "user_tz": 180
    },
    "id": "m7K_rdIvTbdL",
    "outputId": "fe54f33a-47e8-49d5-aed4-2ec51b543987"
   },
   "outputs": [
    {
     "data": {
      "text/html": [
       "<html>\n",
       "<head><meta charset=\"utf-8\" /></head>\n",
       "<body>\n",
       "    <div>            <script src=\"https://cdnjs.cloudflare.com/ajax/libs/mathjax/2.7.5/MathJax.js?config=TeX-AMS-MML_SVG\"></script><script type=\"text/javascript\">if (window.MathJax) {MathJax.Hub.Config({SVG: {font: \"STIX-Web\"}});}</script>                <script type=\"text/javascript\">window.PlotlyConfig = {MathJaxConfig: 'local'};</script>\n",
       "        <script src=\"https://cdn.plot.ly/plotly-2.8.3.min.js\"></script>                <div id=\"2dd007a8-b278-42e0-94fe-edf7ad670b51\" class=\"plotly-graph-div\" style=\"height:525px; width:100%;\"></div>            <script type=\"text/javascript\">                                    window.PLOTLYENV=window.PLOTLYENV || {};                                    if (document.getElementById(\"2dd007a8-b278-42e0-94fe-edf7ad670b51\")) {                    Plotly.newPlot(                        \"2dd007a8-b278-42e0-94fe-edf7ad670b51\",                        [{\"alignmentgroup\":\"True\",\"hovertemplate\":\"Category=%{x}<br>Valuation=%{y}<extra></extra>\",\"legendgroup\":\"\",\"marker\":{\"color\":\"#636efa\",\"pattern\":{\"shape\":\"\"}},\"name\":\"\",\"offsetgroup\":\"\",\"orientation\":\"v\",\"showlegend\":false,\"textposition\":\"auto\",\"x\":[\"Cybersecurity\",\"E-commerce & direct-to-consumer\",\"Travel\",\"Health\",\"Fintech\",\"Edtech\",\"Data management & analytics\",\"Auto & transportation\",\"Other\",\"Supply chain, logistics, & delivery\",\"Mobile & telecommunications\",\"Artificial Intelligence\",\"Internet software & services\",\"Hardware\",\"Consumer & retail\",\"Finttech\"],\"xaxis\":\"x\",\"y\":[103.88999999999999,283.11999999999995,36.6,161.49,726.39,85.37,120.7,101.35000000000001,245.46,134.08999999999997,74.09,311.8399999999999,479.7099999999999,98.59,64.13,10.0],\"yaxis\":\"y\",\"type\":\"bar\"}],                        {\"template\":{\"data\":{\"bar\":[{\"error_x\":{\"color\":\"#2a3f5f\"},\"error_y\":{\"color\":\"#2a3f5f\"},\"marker\":{\"line\":{\"color\":\"#E5ECF6\",\"width\":0.5},\"pattern\":{\"fillmode\":\"overlay\",\"size\":10,\"solidity\":0.2}},\"type\":\"bar\"}],\"barpolar\":[{\"marker\":{\"line\":{\"color\":\"#E5ECF6\",\"width\":0.5},\"pattern\":{\"fillmode\":\"overlay\",\"size\":10,\"solidity\":0.2}},\"type\":\"barpolar\"}],\"carpet\":[{\"aaxis\":{\"endlinecolor\":\"#2a3f5f\",\"gridcolor\":\"white\",\"linecolor\":\"white\",\"minorgridcolor\":\"white\",\"startlinecolor\":\"#2a3f5f\"},\"baxis\":{\"endlinecolor\":\"#2a3f5f\",\"gridcolor\":\"white\",\"linecolor\":\"white\",\"minorgridcolor\":\"white\",\"startlinecolor\":\"#2a3f5f\"},\"type\":\"carpet\"}],\"choropleth\":[{\"colorbar\":{\"outlinewidth\":0,\"ticks\":\"\"},\"type\":\"choropleth\"}],\"contour\":[{\"colorbar\":{\"outlinewidth\":0,\"ticks\":\"\"},\"colorscale\":[[0.0,\"#0d0887\"],[0.1111111111111111,\"#46039f\"],[0.2222222222222222,\"#7201a8\"],[0.3333333333333333,\"#9c179e\"],[0.4444444444444444,\"#bd3786\"],[0.5555555555555556,\"#d8576b\"],[0.6666666666666666,\"#ed7953\"],[0.7777777777777778,\"#fb9f3a\"],[0.8888888888888888,\"#fdca26\"],[1.0,\"#f0f921\"]],\"type\":\"contour\"}],\"contourcarpet\":[{\"colorbar\":{\"outlinewidth\":0,\"ticks\":\"\"},\"type\":\"contourcarpet\"}],\"heatmap\":[{\"colorbar\":{\"outlinewidth\":0,\"ticks\":\"\"},\"colorscale\":[[0.0,\"#0d0887\"],[0.1111111111111111,\"#46039f\"],[0.2222222222222222,\"#7201a8\"],[0.3333333333333333,\"#9c179e\"],[0.4444444444444444,\"#bd3786\"],[0.5555555555555556,\"#d8576b\"],[0.6666666666666666,\"#ed7953\"],[0.7777777777777778,\"#fb9f3a\"],[0.8888888888888888,\"#fdca26\"],[1.0,\"#f0f921\"]],\"type\":\"heatmap\"}],\"heatmapgl\":[{\"colorbar\":{\"outlinewidth\":0,\"ticks\":\"\"},\"colorscale\":[[0.0,\"#0d0887\"],[0.1111111111111111,\"#46039f\"],[0.2222222222222222,\"#7201a8\"],[0.3333333333333333,\"#9c179e\"],[0.4444444444444444,\"#bd3786\"],[0.5555555555555556,\"#d8576b\"],[0.6666666666666666,\"#ed7953\"],[0.7777777777777778,\"#fb9f3a\"],[0.8888888888888888,\"#fdca26\"],[1.0,\"#f0f921\"]],\"type\":\"heatmapgl\"}],\"histogram\":[{\"marker\":{\"pattern\":{\"fillmode\":\"overlay\",\"size\":10,\"solidity\":0.2}},\"type\":\"histogram\"}],\"histogram2d\":[{\"colorbar\":{\"outlinewidth\":0,\"ticks\":\"\"},\"colorscale\":[[0.0,\"#0d0887\"],[0.1111111111111111,\"#46039f\"],[0.2222222222222222,\"#7201a8\"],[0.3333333333333333,\"#9c179e\"],[0.4444444444444444,\"#bd3786\"],[0.5555555555555556,\"#d8576b\"],[0.6666666666666666,\"#ed7953\"],[0.7777777777777778,\"#fb9f3a\"],[0.8888888888888888,\"#fdca26\"],[1.0,\"#f0f921\"]],\"type\":\"histogram2d\"}],\"histogram2dcontour\":[{\"colorbar\":{\"outlinewidth\":0,\"ticks\":\"\"},\"colorscale\":[[0.0,\"#0d0887\"],[0.1111111111111111,\"#46039f\"],[0.2222222222222222,\"#7201a8\"],[0.3333333333333333,\"#9c179e\"],[0.4444444444444444,\"#bd3786\"],[0.5555555555555556,\"#d8576b\"],[0.6666666666666666,\"#ed7953\"],[0.7777777777777778,\"#fb9f3a\"],[0.8888888888888888,\"#fdca26\"],[1.0,\"#f0f921\"]],\"type\":\"histogram2dcontour\"}],\"mesh3d\":[{\"colorbar\":{\"outlinewidth\":0,\"ticks\":\"\"},\"type\":\"mesh3d\"}],\"parcoords\":[{\"line\":{\"colorbar\":{\"outlinewidth\":0,\"ticks\":\"\"}},\"type\":\"parcoords\"}],\"pie\":[{\"automargin\":true,\"type\":\"pie\"}],\"scatter\":[{\"marker\":{\"colorbar\":{\"outlinewidth\":0,\"ticks\":\"\"}},\"type\":\"scatter\"}],\"scatter3d\":[{\"line\":{\"colorbar\":{\"outlinewidth\":0,\"ticks\":\"\"}},\"marker\":{\"colorbar\":{\"outlinewidth\":0,\"ticks\":\"\"}},\"type\":\"scatter3d\"}],\"scattercarpet\":[{\"marker\":{\"colorbar\":{\"outlinewidth\":0,\"ticks\":\"\"}},\"type\":\"scattercarpet\"}],\"scattergeo\":[{\"marker\":{\"colorbar\":{\"outlinewidth\":0,\"ticks\":\"\"}},\"type\":\"scattergeo\"}],\"scattergl\":[{\"marker\":{\"colorbar\":{\"outlinewidth\":0,\"ticks\":\"\"}},\"type\":\"scattergl\"}],\"scattermapbox\":[{\"marker\":{\"colorbar\":{\"outlinewidth\":0,\"ticks\":\"\"}},\"type\":\"scattermapbox\"}],\"scatterpolar\":[{\"marker\":{\"colorbar\":{\"outlinewidth\":0,\"ticks\":\"\"}},\"type\":\"scatterpolar\"}],\"scatterpolargl\":[{\"marker\":{\"colorbar\":{\"outlinewidth\":0,\"ticks\":\"\"}},\"type\":\"scatterpolargl\"}],\"scatterternary\":[{\"marker\":{\"colorbar\":{\"outlinewidth\":0,\"ticks\":\"\"}},\"type\":\"scatterternary\"}],\"surface\":[{\"colorbar\":{\"outlinewidth\":0,\"ticks\":\"\"},\"colorscale\":[[0.0,\"#0d0887\"],[0.1111111111111111,\"#46039f\"],[0.2222222222222222,\"#7201a8\"],[0.3333333333333333,\"#9c179e\"],[0.4444444444444444,\"#bd3786\"],[0.5555555555555556,\"#d8576b\"],[0.6666666666666666,\"#ed7953\"],[0.7777777777777778,\"#fb9f3a\"],[0.8888888888888888,\"#fdca26\"],[1.0,\"#f0f921\"]],\"type\":\"surface\"}],\"table\":[{\"cells\":{\"fill\":{\"color\":\"#EBF0F8\"},\"line\":{\"color\":\"white\"}},\"header\":{\"fill\":{\"color\":\"#C8D4E3\"},\"line\":{\"color\":\"white\"}},\"type\":\"table\"}]},\"layout\":{\"annotationdefaults\":{\"arrowcolor\":\"#2a3f5f\",\"arrowhead\":0,\"arrowwidth\":1},\"autotypenumbers\":\"strict\",\"coloraxis\":{\"colorbar\":{\"outlinewidth\":0,\"ticks\":\"\"}},\"colorscale\":{\"diverging\":[[0,\"#8e0152\"],[0.1,\"#c51b7d\"],[0.2,\"#de77ae\"],[0.3,\"#f1b6da\"],[0.4,\"#fde0ef\"],[0.5,\"#f7f7f7\"],[0.6,\"#e6f5d0\"],[0.7,\"#b8e186\"],[0.8,\"#7fbc41\"],[0.9,\"#4d9221\"],[1,\"#276419\"]],\"sequential\":[[0.0,\"#0d0887\"],[0.1111111111111111,\"#46039f\"],[0.2222222222222222,\"#7201a8\"],[0.3333333333333333,\"#9c179e\"],[0.4444444444444444,\"#bd3786\"],[0.5555555555555556,\"#d8576b\"],[0.6666666666666666,\"#ed7953\"],[0.7777777777777778,\"#fb9f3a\"],[0.8888888888888888,\"#fdca26\"],[1.0,\"#f0f921\"]],\"sequentialminus\":[[0.0,\"#0d0887\"],[0.1111111111111111,\"#46039f\"],[0.2222222222222222,\"#7201a8\"],[0.3333333333333333,\"#9c179e\"],[0.4444444444444444,\"#bd3786\"],[0.5555555555555556,\"#d8576b\"],[0.6666666666666666,\"#ed7953\"],[0.7777777777777778,\"#fb9f3a\"],[0.8888888888888888,\"#fdca26\"],[1.0,\"#f0f921\"]]},\"colorway\":[\"#636efa\",\"#EF553B\",\"#00cc96\",\"#ab63fa\",\"#FFA15A\",\"#19d3f3\",\"#FF6692\",\"#B6E880\",\"#FF97FF\",\"#FECB52\"],\"font\":{\"color\":\"#2a3f5f\"},\"geo\":{\"bgcolor\":\"white\",\"lakecolor\":\"white\",\"landcolor\":\"#E5ECF6\",\"showlakes\":true,\"showland\":true,\"subunitcolor\":\"white\"},\"hoverlabel\":{\"align\":\"left\"},\"hovermode\":\"closest\",\"mapbox\":{\"style\":\"light\"},\"paper_bgcolor\":\"white\",\"plot_bgcolor\":\"#E5ECF6\",\"polar\":{\"angularaxis\":{\"gridcolor\":\"white\",\"linecolor\":\"white\",\"ticks\":\"\"},\"bgcolor\":\"#E5ECF6\",\"radialaxis\":{\"gridcolor\":\"white\",\"linecolor\":\"white\",\"ticks\":\"\"}},\"scene\":{\"xaxis\":{\"backgroundcolor\":\"#E5ECF6\",\"gridcolor\":\"white\",\"gridwidth\":2,\"linecolor\":\"white\",\"showbackground\":true,\"ticks\":\"\",\"zerolinecolor\":\"white\"},\"yaxis\":{\"backgroundcolor\":\"#E5ECF6\",\"gridcolor\":\"white\",\"gridwidth\":2,\"linecolor\":\"white\",\"showbackground\":true,\"ticks\":\"\",\"zerolinecolor\":\"white\"},\"zaxis\":{\"backgroundcolor\":\"#E5ECF6\",\"gridcolor\":\"white\",\"gridwidth\":2,\"linecolor\":\"white\",\"showbackground\":true,\"ticks\":\"\",\"zerolinecolor\":\"white\"}},\"shapedefaults\":{\"line\":{\"color\":\"#2a3f5f\"}},\"ternary\":{\"aaxis\":{\"gridcolor\":\"white\",\"linecolor\":\"white\",\"ticks\":\"\"},\"baxis\":{\"gridcolor\":\"white\",\"linecolor\":\"white\",\"ticks\":\"\"},\"bgcolor\":\"#E5ECF6\",\"caxis\":{\"gridcolor\":\"white\",\"linecolor\":\"white\",\"ticks\":\"\"}},\"title\":{\"x\":0.05},\"xaxis\":{\"automargin\":true,\"gridcolor\":\"white\",\"linecolor\":\"white\",\"ticks\":\"\",\"title\":{\"standoff\":15},\"zerolinecolor\":\"white\",\"zerolinewidth\":2},\"yaxis\":{\"automargin\":true,\"gridcolor\":\"white\",\"linecolor\":\"white\",\"ticks\":\"\",\"title\":{\"standoff\":15},\"zerolinecolor\":\"white\",\"zerolinewidth\":2}}},\"xaxis\":{\"anchor\":\"y\",\"domain\":[0.0,1.0],\"title\":{\"text\":\"Category\"}},\"yaxis\":{\"anchor\":\"x\",\"domain\":[0.0,1.0],\"title\":{\"text\":\"Valuation\"}},\"legend\":{\"tracegroupgap\":0},\"margin\":{\"t\":60},\"barmode\":\"relative\"},                        {\"responsive\": true}                    ).then(function(){\n",
       "                            \n",
       "var gd = document.getElementById('2dd007a8-b278-42e0-94fe-edf7ad670b51');\n",
       "var x = new MutationObserver(function (mutations, observer) {{\n",
       "        var display = window.getComputedStyle(gd).display;\n",
       "        if (!display || display === 'none') {{\n",
       "            console.log([gd, 'removed!']);\n",
       "            Plotly.purge(gd);\n",
       "            observer.disconnect();\n",
       "        }}\n",
       "}});\n",
       "\n",
       "// Listen for the removal of the full notebook cells\n",
       "var notebookContainer = gd.closest('#notebook-container');\n",
       "if (notebookContainer) {{\n",
       "    x.observe(notebookContainer, {childList: true});\n",
       "}}\n",
       "\n",
       "// Listen for the clearing of the current output cell\n",
       "var outputEl = gd.closest('.output');\n",
       "if (outputEl) {{\n",
       "    x.observe(outputEl, {childList: true});\n",
       "}}\n",
       "\n",
       "                        })                };                            </script>        </div>\n",
       "</body>\n",
       "</html>"
      ]
     },
     "metadata": {},
     "output_type": "display_data"
    }
   ],
   "source": [
    "df.groupby('Category').agg(F.sum('Valuation').alias('Valuation')).pandas_api().plot.bar(x='Category', y='Valuation')"
   ]
  },
  {
   "cell_type": "markdown",
   "metadata": {
    "id": "4EfSWdkuVDZj"
   },
   "source": [
    "## -> Example Break point\n",
    "\n",
    "Calcule a soma das avaliações por ano e categoria, então faça um gráfico de linhas com o ano no eixo x e avaliação no eixo y, sendo uma linha por categoria.\n"
   ]
  },
  {
   "cell_type": "code",
   "execution_count": 45,
   "metadata": {
    "colab": {
     "base_uri": "https://localhost:8080/",
     "height": 542
    },
    "executionInfo": {
     "elapsed": 1857,
     "status": "ok",
     "timestamp": 1660199568090,
     "user": {
      "displayName": "Cainã Max Couto-Silva",
      "userId": "10965485795191366596"
     },
     "user_tz": 180
    },
    "id": "gK-dQPkXVEUa",
    "outputId": "5c92d5c5-00c3-4700-8c1b-18b4c3a8d2b6"
   },
   "outputs": [
    {
     "data": {
      "text/html": [
       "<html>\n",
       "<head><meta charset=\"utf-8\" /></head>\n",
       "<body>\n",
       "    <div>            <script src=\"https://cdnjs.cloudflare.com/ajax/libs/mathjax/2.7.5/MathJax.js?config=TeX-AMS-MML_SVG\"></script><script type=\"text/javascript\">if (window.MathJax) {MathJax.Hub.Config({SVG: {font: \"STIX-Web\"}});}</script>                <script type=\"text/javascript\">window.PlotlyConfig = {MathJaxConfig: 'local'};</script>\n",
       "        <script src=\"https://cdn.plot.ly/plotly-2.8.3.min.js\"></script>                <div id=\"416d0bf0-7650-41f2-b552-1c7d704b7c27\" class=\"plotly-graph-div\" style=\"height:525px; width:100%;\"></div>            <script type=\"text/javascript\">                                    window.PLOTLYENV=window.PLOTLYENV || {};                                    if (document.getElementById(\"416d0bf0-7650-41f2-b552-1c7d704b7c27\")) {                    Plotly.newPlot(                        \"416d0bf0-7650-41f2-b552-1c7d704b7c27\",                        [{\"hovertemplate\":\"Category=E-commerce & direct-to-consumer<br>Year=%{x}<br>sum(Valuation)=%{y}<extra></extra>\",\"legendgroup\":\"E-commerce & direct-to-consumer\",\"line\":{\"color\":\"#636efa\",\"dash\":\"solid\"},\"marker\":{\"symbol\":\"circle\"},\"mode\":\"lines\",\"name\":\"E-commerce & direct-to-consumer\",\"orientation\":\"v\",\"showlegend\":true,\"x\":[2007,2010,2012,2014,2015,2016,2017,2018,2019,2020,2021],\"xaxis\":\"x\",\"y\":[1.38,3.0,18.0,7.4,13.690000000000001,39.37,9.18,25.8,33.01,58.190000000000005,74.1],\"yaxis\":\"y\",\"type\":\"scatter\"},{\"hovertemplate\":\"Category=Fintech<br>Year=%{x}<br>sum(Valuation)=%{y}<extra></extra>\",\"legendgroup\":\"Fintech\",\"line\":{\"color\":\"#EF553B\",\"dash\":\"solid\"},\"marker\":{\"symbol\":\"circle\"},\"mode\":\"lines\",\"name\":\"Fintech\",\"orientation\":\"v\",\"showlegend\":true,\"x\":[2011,2014,2015,2017,2018,2019,2020,2021],\"xaxis\":\"x\",\"y\":[45.6,95.0,31.5,13.879999999999999,111.74000000000001,107.02,50.800000000000004,270.85],\"yaxis\":\"y\",\"type\":\"scatter\"},{\"hovertemplate\":\"Category=Internet software & services<br>Year=%{x}<br>sum(Valuation)=%{y}<extra></extra>\",\"legendgroup\":\"Internet software & services\",\"line\":{\"color\":\"#00cc96\",\"dash\":\"solid\"},\"marker\":{\"symbol\":\"circle\"},\"mode\":\"lines\",\"name\":\"Internet software & services\",\"orientation\":\"v\",\"showlegend\":true,\"x\":[2011,2013,2015,2016,2017,2018,2019,2020,2021],\"xaxis\":\"x\",\"y\":[5.7,1.8,8.73,1.0,15.15,102.1,55.6,78.88,210.75],\"yaxis\":\"y\",\"type\":\"scatter\"},{\"hovertemplate\":\"Category=Artificial Intelligence<br>Year=%{x}<br>sum(Valuation)=%{y}<extra></extra>\",\"legendgroup\":\"Artificial Intelligence\",\"line\":{\"color\":\"#ab63fa\",\"dash\":\"solid\"},\"marker\":{\"symbol\":\"circle\"},\"mode\":\"lines\",\"name\":\"Artificial Intelligence\",\"orientation\":\"v\",\"showlegend\":true,\"x\":[2012,2015,2016,2017,2018,2019,2020,2021],\"xaxis\":\"x\",\"y\":[2.0,3.3,1.0,161.1,35.129999999999995,55.85999999999999,10.3,43.15],\"yaxis\":\"y\",\"type\":\"scatter\"},{\"hovertemplate\":\"Category=Consumer & retail<br>Year=%{x}<br>sum(Valuation)=%{y}<extra></extra>\",\"legendgroup\":\"Consumer & retail\",\"line\":{\"color\":\"#FFA15A\",\"dash\":\"solid\"},\"marker\":{\"symbol\":\"circle\"},\"mode\":\"lines\",\"name\":\"Consumer & retail\",\"orientation\":\"v\",\"showlegend\":true,\"x\":[2012,2016,2017,2018,2019,2020,2021],\"xaxis\":\"x\",\"y\":[2.0,3.78,15.34,13.93,7.2,6.0,15.88],\"yaxis\":\"y\",\"type\":\"scatter\"},{\"hovertemplate\":\"Category=Other<br>Year=%{x}<br>sum(Valuation)=%{y}<extra></extra>\",\"legendgroup\":\"Other\",\"line\":{\"color\":\"#19d3f3\",\"dash\":\"solid\"},\"marker\":{\"symbol\":\"circle\"},\"mode\":\"lines\",\"name\":\"Other\",\"orientation\":\"v\",\"showlegend\":true,\"x\":[2012,2015,2016,2017,2018,2019,2020,2021],\"xaxis\":\"x\",\"y\":[100.3,4.35,4.34,6.57,32.22,31.240000000000002,34.11,32.33],\"yaxis\":\"y\",\"type\":\"scatter\"},{\"hovertemplate\":\"Category=Cybersecurity<br>Year=%{x}<br>sum(Valuation)=%{y}<extra></extra>\",\"legendgroup\":\"Cybersecurity\",\"line\":{\"color\":\"#FF6692\",\"dash\":\"solid\"},\"marker\":{\"symbol\":\"circle\"},\"mode\":\"lines\",\"name\":\"Cybersecurity\",\"orientation\":\"v\",\"showlegend\":true,\"x\":[2013,2015,2018,2019,2020,2021],\"xaxis\":\"x\",\"y\":[1.0,11.75,7.5,8.26,22.4,52.98],\"yaxis\":\"y\",\"type\":\"scatter\"},{\"hovertemplate\":\"Category=Data management & analytics<br>Year=%{x}<br>sum(Valuation)=%{y}<extra></extra>\",\"legendgroup\":\"Data management & analytics\",\"line\":{\"color\":\"#B6E880\",\"dash\":\"solid\"},\"marker\":{\"symbol\":\"circle\"},\"mode\":\"lines\",\"name\":\"Data management & analytics\",\"orientation\":\"v\",\"showlegend\":true,\"x\":[2013,2017,2018,2019,2020,2021],\"xaxis\":\"x\",\"y\":[1.5,5.5,16.32,46.3,17.2,33.879999999999995],\"yaxis\":\"y\",\"type\":\"scatter\"},{\"hovertemplate\":\"Category=Auto & transportation<br>Year=%{x}<br>sum(Valuation)=%{y}<extra></extra>\",\"legendgroup\":\"Auto & transportation\",\"line\":{\"color\":\"#FF97FF\",\"dash\":\"solid\"},\"marker\":{\"symbol\":\"circle\"},\"mode\":\"lines\",\"name\":\"Auto & transportation\",\"orientation\":\"v\",\"showlegend\":true,\"x\":[2014,2015,2016,2018,2019,2020,2021],\"xaxis\":\"x\",\"y\":[20.6,2.0,3.5,24.75,22.93,11.02,16.55],\"yaxis\":\"y\",\"type\":\"scatter\"},{\"hovertemplate\":\"Category=Hardware<br>Year=%{x}<br>sum(Valuation)=%{y}<extra></extra>\",\"legendgroup\":\"Hardware\",\"line\":{\"color\":\"#FECB52\",\"dash\":\"solid\"},\"marker\":{\"symbol\":\"circle\"},\"mode\":\"lines\",\"name\":\"Hardware\",\"orientation\":\"v\",\"showlegend\":true,\"x\":[2014,2015,2016,2018,2020,2021],\"xaxis\":\"x\",\"y\":[6.58,25.0,15.55,30.75,3.92,16.79],\"yaxis\":\"y\",\"type\":\"scatter\"},{\"hovertemplate\":\"Category=Health<br>Year=%{x}<br>sum(Valuation)=%{y}<extra></extra>\",\"legendgroup\":\"Health\",\"line\":{\"color\":\"#636efa\",\"dash\":\"solid\"},\"marker\":{\"symbol\":\"circle\"},\"mode\":\"lines\",\"name\":\"Health\",\"orientation\":\"v\",\"showlegend\":true,\"x\":[2014,2015,2016,2017,2018,2019,2020,2021],\"xaxis\":\"x\",\"y\":[3.8,8.8,1.0,10.82,35.7,9.18,25.21,66.98],\"yaxis\":\"y\",\"type\":\"scatter\"},{\"hovertemplate\":\"Category=Mobile & telecommunications<br>Year=%{x}<br>sum(Valuation)=%{y}<extra></extra>\",\"legendgroup\":\"Mobile & telecommunications\",\"line\":{\"color\":\"#EF553B\",\"dash\":\"solid\"},\"marker\":{\"symbol\":\"circle\"},\"mode\":\"lines\",\"name\":\"Mobile & telecommunications\",\"orientation\":\"v\",\"showlegend\":true,\"x\":[2014,2015,2016,2017,2018,2019,2020,2021],\"xaxis\":\"x\",\"y\":[6.1,6.73,2.8,13.92,6.79,8.49,19.509999999999998,9.75],\"yaxis\":\"y\",\"type\":\"scatter\"},{\"hovertemplate\":\"Category=Supply chain, logistics, & delivery<br>Year=%{x}<br>sum(Valuation)=%{y}<extra></extra>\",\"legendgroup\":\"Supply chain, logistics, & delivery\",\"line\":{\"color\":\"#00cc96\",\"dash\":\"solid\"},\"marker\":{\"symbol\":\"circle\"},\"mode\":\"lines\",\"name\":\"Supply chain, logistics, & delivery\",\"orientation\":\"v\",\"showlegend\":true,\"x\":[2014,2016,2017,2018,2019,2020,2021],\"xaxis\":\"x\",\"y\":[39.0,1.2,1.0,26.65,24.590000000000003,4.05,37.6],\"yaxis\":\"y\",\"type\":\"scatter\"},{\"hovertemplate\":\"Category=Edtech<br>Year=%{x}<br>sum(Valuation)=%{y}<extra></extra>\",\"legendgroup\":\"Edtech\",\"line\":{\"color\":\"#ab63fa\",\"dash\":\"solid\"},\"marker\":{\"symbol\":\"circle\"},\"mode\":\"lines\",\"name\":\"Edtech\",\"orientation\":\"v\",\"showlegend\":true,\"x\":[2015,2016,2017,2018,2019,2020,2021],\"xaxis\":\"x\",\"y\":[2.0,7.5,39.18,4.0,1.0,8.54,23.15],\"yaxis\":\"y\",\"type\":\"scatter\"},{\"hovertemplate\":\"Category=Travel<br>Year=%{x}<br>sum(Valuation)=%{y}<extra></extra>\",\"legendgroup\":\"Travel\",\"line\":{\"color\":\"#FFA15A\",\"dash\":\"solid\"},\"marker\":{\"symbol\":\"circle\"},\"mode\":\"lines\",\"name\":\"Travel\",\"orientation\":\"v\",\"showlegend\":true,\"x\":[2015,2017,2018,2019,2021],\"xaxis\":\"x\",\"y\":[1.5,4.5,19.2,6.4,5.0],\"yaxis\":\"y\",\"type\":\"scatter\"},{\"hovertemplate\":\"Category=Finttech<br>Year=%{x}<br>sum(Valuation)=%{y}<extra></extra>\",\"legendgroup\":\"Finttech\",\"line\":{\"color\":\"#19d3f3\",\"dash\":\"solid\"},\"marker\":{\"symbol\":\"circle\"},\"mode\":\"lines\",\"name\":\"Finttech\",\"orientation\":\"v\",\"showlegend\":true,\"x\":[2021],\"xaxis\":\"x\",\"y\":[10.0],\"yaxis\":\"y\",\"type\":\"scatter\"}],                        {\"template\":{\"data\":{\"bar\":[{\"error_x\":{\"color\":\"#2a3f5f\"},\"error_y\":{\"color\":\"#2a3f5f\"},\"marker\":{\"line\":{\"color\":\"#E5ECF6\",\"width\":0.5},\"pattern\":{\"fillmode\":\"overlay\",\"size\":10,\"solidity\":0.2}},\"type\":\"bar\"}],\"barpolar\":[{\"marker\":{\"line\":{\"color\":\"#E5ECF6\",\"width\":0.5},\"pattern\":{\"fillmode\":\"overlay\",\"size\":10,\"solidity\":0.2}},\"type\":\"barpolar\"}],\"carpet\":[{\"aaxis\":{\"endlinecolor\":\"#2a3f5f\",\"gridcolor\":\"white\",\"linecolor\":\"white\",\"minorgridcolor\":\"white\",\"startlinecolor\":\"#2a3f5f\"},\"baxis\":{\"endlinecolor\":\"#2a3f5f\",\"gridcolor\":\"white\",\"linecolor\":\"white\",\"minorgridcolor\":\"white\",\"startlinecolor\":\"#2a3f5f\"},\"type\":\"carpet\"}],\"choropleth\":[{\"colorbar\":{\"outlinewidth\":0,\"ticks\":\"\"},\"type\":\"choropleth\"}],\"contour\":[{\"colorbar\":{\"outlinewidth\":0,\"ticks\":\"\"},\"colorscale\":[[0.0,\"#0d0887\"],[0.1111111111111111,\"#46039f\"],[0.2222222222222222,\"#7201a8\"],[0.3333333333333333,\"#9c179e\"],[0.4444444444444444,\"#bd3786\"],[0.5555555555555556,\"#d8576b\"],[0.6666666666666666,\"#ed7953\"],[0.7777777777777778,\"#fb9f3a\"],[0.8888888888888888,\"#fdca26\"],[1.0,\"#f0f921\"]],\"type\":\"contour\"}],\"contourcarpet\":[{\"colorbar\":{\"outlinewidth\":0,\"ticks\":\"\"},\"type\":\"contourcarpet\"}],\"heatmap\":[{\"colorbar\":{\"outlinewidth\":0,\"ticks\":\"\"},\"colorscale\":[[0.0,\"#0d0887\"],[0.1111111111111111,\"#46039f\"],[0.2222222222222222,\"#7201a8\"],[0.3333333333333333,\"#9c179e\"],[0.4444444444444444,\"#bd3786\"],[0.5555555555555556,\"#d8576b\"],[0.6666666666666666,\"#ed7953\"],[0.7777777777777778,\"#fb9f3a\"],[0.8888888888888888,\"#fdca26\"],[1.0,\"#f0f921\"]],\"type\":\"heatmap\"}],\"heatmapgl\":[{\"colorbar\":{\"outlinewidth\":0,\"ticks\":\"\"},\"colorscale\":[[0.0,\"#0d0887\"],[0.1111111111111111,\"#46039f\"],[0.2222222222222222,\"#7201a8\"],[0.3333333333333333,\"#9c179e\"],[0.4444444444444444,\"#bd3786\"],[0.5555555555555556,\"#d8576b\"],[0.6666666666666666,\"#ed7953\"],[0.7777777777777778,\"#fb9f3a\"],[0.8888888888888888,\"#fdca26\"],[1.0,\"#f0f921\"]],\"type\":\"heatmapgl\"}],\"histogram\":[{\"marker\":{\"pattern\":{\"fillmode\":\"overlay\",\"size\":10,\"solidity\":0.2}},\"type\":\"histogram\"}],\"histogram2d\":[{\"colorbar\":{\"outlinewidth\":0,\"ticks\":\"\"},\"colorscale\":[[0.0,\"#0d0887\"],[0.1111111111111111,\"#46039f\"],[0.2222222222222222,\"#7201a8\"],[0.3333333333333333,\"#9c179e\"],[0.4444444444444444,\"#bd3786\"],[0.5555555555555556,\"#d8576b\"],[0.6666666666666666,\"#ed7953\"],[0.7777777777777778,\"#fb9f3a\"],[0.8888888888888888,\"#fdca26\"],[1.0,\"#f0f921\"]],\"type\":\"histogram2d\"}],\"histogram2dcontour\":[{\"colorbar\":{\"outlinewidth\":0,\"ticks\":\"\"},\"colorscale\":[[0.0,\"#0d0887\"],[0.1111111111111111,\"#46039f\"],[0.2222222222222222,\"#7201a8\"],[0.3333333333333333,\"#9c179e\"],[0.4444444444444444,\"#bd3786\"],[0.5555555555555556,\"#d8576b\"],[0.6666666666666666,\"#ed7953\"],[0.7777777777777778,\"#fb9f3a\"],[0.8888888888888888,\"#fdca26\"],[1.0,\"#f0f921\"]],\"type\":\"histogram2dcontour\"}],\"mesh3d\":[{\"colorbar\":{\"outlinewidth\":0,\"ticks\":\"\"},\"type\":\"mesh3d\"}],\"parcoords\":[{\"line\":{\"colorbar\":{\"outlinewidth\":0,\"ticks\":\"\"}},\"type\":\"parcoords\"}],\"pie\":[{\"automargin\":true,\"type\":\"pie\"}],\"scatter\":[{\"marker\":{\"colorbar\":{\"outlinewidth\":0,\"ticks\":\"\"}},\"type\":\"scatter\"}],\"scatter3d\":[{\"line\":{\"colorbar\":{\"outlinewidth\":0,\"ticks\":\"\"}},\"marker\":{\"colorbar\":{\"outlinewidth\":0,\"ticks\":\"\"}},\"type\":\"scatter3d\"}],\"scattercarpet\":[{\"marker\":{\"colorbar\":{\"outlinewidth\":0,\"ticks\":\"\"}},\"type\":\"scattercarpet\"}],\"scattergeo\":[{\"marker\":{\"colorbar\":{\"outlinewidth\":0,\"ticks\":\"\"}},\"type\":\"scattergeo\"}],\"scattergl\":[{\"marker\":{\"colorbar\":{\"outlinewidth\":0,\"ticks\":\"\"}},\"type\":\"scattergl\"}],\"scattermapbox\":[{\"marker\":{\"colorbar\":{\"outlinewidth\":0,\"ticks\":\"\"}},\"type\":\"scattermapbox\"}],\"scatterpolar\":[{\"marker\":{\"colorbar\":{\"outlinewidth\":0,\"ticks\":\"\"}},\"type\":\"scatterpolar\"}],\"scatterpolargl\":[{\"marker\":{\"colorbar\":{\"outlinewidth\":0,\"ticks\":\"\"}},\"type\":\"scatterpolargl\"}],\"scatterternary\":[{\"marker\":{\"colorbar\":{\"outlinewidth\":0,\"ticks\":\"\"}},\"type\":\"scatterternary\"}],\"surface\":[{\"colorbar\":{\"outlinewidth\":0,\"ticks\":\"\"},\"colorscale\":[[0.0,\"#0d0887\"],[0.1111111111111111,\"#46039f\"],[0.2222222222222222,\"#7201a8\"],[0.3333333333333333,\"#9c179e\"],[0.4444444444444444,\"#bd3786\"],[0.5555555555555556,\"#d8576b\"],[0.6666666666666666,\"#ed7953\"],[0.7777777777777778,\"#fb9f3a\"],[0.8888888888888888,\"#fdca26\"],[1.0,\"#f0f921\"]],\"type\":\"surface\"}],\"table\":[{\"cells\":{\"fill\":{\"color\":\"#EBF0F8\"},\"line\":{\"color\":\"white\"}},\"header\":{\"fill\":{\"color\":\"#C8D4E3\"},\"line\":{\"color\":\"white\"}},\"type\":\"table\"}]},\"layout\":{\"annotationdefaults\":{\"arrowcolor\":\"#2a3f5f\",\"arrowhead\":0,\"arrowwidth\":1},\"autotypenumbers\":\"strict\",\"coloraxis\":{\"colorbar\":{\"outlinewidth\":0,\"ticks\":\"\"}},\"colorscale\":{\"diverging\":[[0,\"#8e0152\"],[0.1,\"#c51b7d\"],[0.2,\"#de77ae\"],[0.3,\"#f1b6da\"],[0.4,\"#fde0ef\"],[0.5,\"#f7f7f7\"],[0.6,\"#e6f5d0\"],[0.7,\"#b8e186\"],[0.8,\"#7fbc41\"],[0.9,\"#4d9221\"],[1,\"#276419\"]],\"sequential\":[[0.0,\"#0d0887\"],[0.1111111111111111,\"#46039f\"],[0.2222222222222222,\"#7201a8\"],[0.3333333333333333,\"#9c179e\"],[0.4444444444444444,\"#bd3786\"],[0.5555555555555556,\"#d8576b\"],[0.6666666666666666,\"#ed7953\"],[0.7777777777777778,\"#fb9f3a\"],[0.8888888888888888,\"#fdca26\"],[1.0,\"#f0f921\"]],\"sequentialminus\":[[0.0,\"#0d0887\"],[0.1111111111111111,\"#46039f\"],[0.2222222222222222,\"#7201a8\"],[0.3333333333333333,\"#9c179e\"],[0.4444444444444444,\"#bd3786\"],[0.5555555555555556,\"#d8576b\"],[0.6666666666666666,\"#ed7953\"],[0.7777777777777778,\"#fb9f3a\"],[0.8888888888888888,\"#fdca26\"],[1.0,\"#f0f921\"]]},\"colorway\":[\"#636efa\",\"#EF553B\",\"#00cc96\",\"#ab63fa\",\"#FFA15A\",\"#19d3f3\",\"#FF6692\",\"#B6E880\",\"#FF97FF\",\"#FECB52\"],\"font\":{\"color\":\"#2a3f5f\"},\"geo\":{\"bgcolor\":\"white\",\"lakecolor\":\"white\",\"landcolor\":\"#E5ECF6\",\"showlakes\":true,\"showland\":true,\"subunitcolor\":\"white\"},\"hoverlabel\":{\"align\":\"left\"},\"hovermode\":\"closest\",\"mapbox\":{\"style\":\"light\"},\"paper_bgcolor\":\"white\",\"plot_bgcolor\":\"#E5ECF6\",\"polar\":{\"angularaxis\":{\"gridcolor\":\"white\",\"linecolor\":\"white\",\"ticks\":\"\"},\"bgcolor\":\"#E5ECF6\",\"radialaxis\":{\"gridcolor\":\"white\",\"linecolor\":\"white\",\"ticks\":\"\"}},\"scene\":{\"xaxis\":{\"backgroundcolor\":\"#E5ECF6\",\"gridcolor\":\"white\",\"gridwidth\":2,\"linecolor\":\"white\",\"showbackground\":true,\"ticks\":\"\",\"zerolinecolor\":\"white\"},\"yaxis\":{\"backgroundcolor\":\"#E5ECF6\",\"gridcolor\":\"white\",\"gridwidth\":2,\"linecolor\":\"white\",\"showbackground\":true,\"ticks\":\"\",\"zerolinecolor\":\"white\"},\"zaxis\":{\"backgroundcolor\":\"#E5ECF6\",\"gridcolor\":\"white\",\"gridwidth\":2,\"linecolor\":\"white\",\"showbackground\":true,\"ticks\":\"\",\"zerolinecolor\":\"white\"}},\"shapedefaults\":{\"line\":{\"color\":\"#2a3f5f\"}},\"ternary\":{\"aaxis\":{\"gridcolor\":\"white\",\"linecolor\":\"white\",\"ticks\":\"\"},\"baxis\":{\"gridcolor\":\"white\",\"linecolor\":\"white\",\"ticks\":\"\"},\"bgcolor\":\"#E5ECF6\",\"caxis\":{\"gridcolor\":\"white\",\"linecolor\":\"white\",\"ticks\":\"\"}},\"title\":{\"x\":0.05},\"xaxis\":{\"automargin\":true,\"gridcolor\":\"white\",\"linecolor\":\"white\",\"ticks\":\"\",\"title\":{\"standoff\":15},\"zerolinecolor\":\"white\",\"zerolinewidth\":2},\"yaxis\":{\"automargin\":true,\"gridcolor\":\"white\",\"linecolor\":\"white\",\"ticks\":\"\",\"title\":{\"standoff\":15},\"zerolinecolor\":\"white\",\"zerolinewidth\":2}}},\"xaxis\":{\"anchor\":\"y\",\"domain\":[0.0,1.0],\"title\":{\"text\":\"Year\"}},\"yaxis\":{\"anchor\":\"x\",\"domain\":[0.0,1.0],\"title\":{\"text\":\"sum(Valuation)\"}},\"legend\":{\"title\":{\"text\":\"Category\"},\"tracegroupgap\":0},\"margin\":{\"t\":60}},                        {\"responsive\": true}                    ).then(function(){\n",
       "                            \n",
       "var gd = document.getElementById('416d0bf0-7650-41f2-b552-1c7d704b7c27');\n",
       "var x = new MutationObserver(function (mutations, observer) {{\n",
       "        var display = window.getComputedStyle(gd).display;\n",
       "        if (!display || display === 'none') {{\n",
       "            console.log([gd, 'removed!']);\n",
       "            Plotly.purge(gd);\n",
       "            observer.disconnect();\n",
       "        }}\n",
       "}});\n",
       "\n",
       "// Listen for the removal of the full notebook cells\n",
       "var notebookContainer = gd.closest('#notebook-container');\n",
       "if (notebookContainer) {{\n",
       "    x.observe(notebookContainer, {childList: true});\n",
       "}}\n",
       "\n",
       "// Listen for the clearing of the current output cell\n",
       "var outputEl = gd.closest('.output');\n",
       "if (outputEl) {{\n",
       "    x.observe(outputEl, {childList: true});\n",
       "}}\n",
       "\n",
       "                        })                };                            </script>        </div>\n",
       "</body>\n",
       "</html>"
      ]
     },
     "metadata": {},
     "output_type": "display_data"
    }
   ],
   "source": [
    "(\n",
    "  df\n",
    " .withColumn('Year', F.year('Date_Added'))\n",
    " .groupby('Year','Category')\n",
    " .sum('Valuation')\n",
    " .orderBy('Year','Category')\n",
    " .pandas_api()\n",
    " .plot.line(x='Year', y='sum(Valuation)', color='Category')\n",
    ")"
   ]
  },
  {
   "cell_type": "markdown",
   "metadata": {
    "id": "DCd8jSGfVtXX"
   },
   "source": [
    "## Further functionalities"
   ]
  },
  {
   "cell_type": "markdown",
   "metadata": {
    "id": "gw2aPQnKQJN7"
   },
   "source": [
    "Coalesce - isNull/isNotNull - concat/concat_ws - split - getItem - explode"
   ]
  },
  {
   "cell_type": "code",
   "execution_count": 46,
   "metadata": {
    "colab": {
     "base_uri": "https://localhost:8080/"
    },
    "executionInfo": {
     "elapsed": 436,
     "status": "ok",
     "timestamp": 1660199568518,
     "user": {
      "displayName": "Cainã Max Couto-Silva",
      "userId": "10965485795191366596"
     },
     "user_tz": 180
    },
    "id": "DyCqRzMAPD12",
    "outputId": "6b5882a7-01a7-40e2-df40-b8982563a949"
   },
   "outputs": [
    {
     "name": "stdout",
     "output_type": "stream",
     "text": [
      "+---------+----------------+---------+----------+--------------------+--------------------+---------------+--------+---------------+--------------------+-------------+--------------------+--------------------+---------------------+----------------+----------------+\n",
      "|  Country|         Company|Valuation|Date_Added|            Category|    Select_Investors|ISO_Alpha3_Code|M49_Code|       Region_1|            Region_2|    Continent|         region_test|     country_company|country_company_split|country_recovery|        exploded|\n",
      "+---------+----------------+---------+----------+--------------------+--------------------+---------------+--------+---------------+--------------------+-------------+--------------------+--------------------+---------------------+----------------+----------------+\n",
      "|   Brazil|          Movile|      1.0|2018-07-12|Mobile & telecomm...|Innova Capital - ...|            BRA|      76|  South America|Latin America and...|South America|Latin America and...|       Brazil_Movile|     [Brazil, Movile]|          Brazil|          Brazil|\n",
      "|   Brazil|          Movile|      1.0|2018-07-12|Mobile & telecomm...|Innova Capital - ...|            BRA|      76|  South America|Latin America and...|South America|Latin America and...|       Brazil_Movile|     [Brazil, Movile]|          Brazil|          Movile|\n",
      "|  Senegal|            Wave|      1.7|2021-09-07|             Fintech|Stripe, Founders ...|            SEN|     686| Western Africa|  Sub-Saharan Africa|       Africa|  Sub-Saharan Africa|        Senegal_Wave|      [Senegal, Wave]|         Senegal|         Senegal|\n",
      "|  Senegal|            Wave|      1.7|2021-09-07|             Fintech|Stripe, Founders ...|            SEN|     686| Western Africa|  Sub-Saharan Africa|       Africa|  Sub-Saharan Africa|        Senegal_Wave|      [Senegal, Wave]|         Senegal|            Wave|\n",
      "|   Brazil|          CargoX|      1.0|2021-10-21|Supply chain, log...|Valor Capital Gro...|            BRA|      76|  South America|Latin America and...|South America|Latin America and...|       Brazil_CargoX|     [Brazil, CargoX]|          Brazil|          Brazil|\n",
      "|   Brazil|          CargoX|      1.0|2021-10-21|Supply chain, log...|Valor Capital Gro...|            BRA|      76|  South America|Latin America and...|South America|Latin America and...|       Brazil_CargoX|     [Brazil, CargoX]|          Brazil|          CargoX|\n",
      "|   Brazil|Wildlife Studios|      3.0|2019-12-05|               Other|Benchmark, Bessem...|            BRA|      76|  South America|Latin America and...|South America|Latin America and...|Brazil_Wildlife S...| [Brazil, Wildlife...|          Brazil|          Brazil|\n",
      "|   Brazil|Wildlife Studios|      3.0|2019-12-05|               Other|Benchmark, Bessem...|            BRA|      76|  South America|Latin America and...|South America|Latin America and...|Brazil_Wildlife S...| [Brazil, Wildlife...|          Brazil|Wildlife Studios|\n",
      "| Colombia|       LifeMiles|     1.15|2015-07-13|               Other|Advent International|            COL|     170|  South America|Latin America and...|South America|Latin America and...|  Colombia_LifeMiles| [Colombia, LifeMi...|        Colombia|        Colombia|\n",
      "| Colombia|       LifeMiles|     1.15|2015-07-13|               Other|Advent International|            COL|     170|  South America|Latin America and...|South America|Latin America and...|  Colombia_LifeMiles| [Colombia, LifeMi...|        Colombia|       LifeMiles|\n",
      "| Colombia|           Rappi|     5.25|2018-08-31|Supply chain, log...|DST Global, Andre...|            COL|     170|  South America|Latin America and...|South America|Latin America and...|      Colombia_Rappi|    [Colombia, Rappi]|        Colombia|        Colombia|\n",
      "| Colombia|           Rappi|     5.25|2018-08-31|Supply chain, log...|DST Global, Andre...|            COL|     170|  South America|Latin America and...|South America|Latin America and...|      Colombia_Rappi|    [Colombia, Rappi]|        Colombia|           Rappi|\n",
      "|   Mexico|           Bitso|      2.2|2021-05-05|             Fintech|Pantera Capital, ...|            MEX|     484|Central America|Latin America and...|North America|Latin America and...|        Mexico_Bitso|      [Mexico, Bitso]|          Mexico|          Mexico|\n",
      "|   Mexico|           Bitso|      2.2|2021-05-05|             Fintech|Pantera Capital, ...|            MEX|     484|Central America|Latin America and...|North America|Latin America and...|        Mexico_Bitso|      [Mexico, Bitso]|          Mexico|           Bitso|\n",
      "|Argentina|            Uala|     2.45|2021-08-13|             Fintech|Soros Fund Manage...|            ARG|      32|  South America|Latin America and...|South America|Latin America and...|      Argentina_Uala|    [Argentina, Uala]|       Argentina|       Argentina|\n",
      "|Argentina|            Uala|     2.45|2021-08-13|             Fintech|Soros Fund Manage...|            ARG|      32|  South America|Latin America and...|South America|Latin America and...|      Argentina_Uala|    [Argentina, Uala]|       Argentina|            Uala|\n",
      "|   Mexico|           Kavak|      8.7|2020-10-01|E-commerce & dire...|DST Global, SoftB...|            MEX|     484|Central America|Latin America and...|North America|Latin America and...|        Mexico_Kavak|      [Mexico, Kavak]|          Mexico|          Mexico|\n",
      "|   Mexico|           Kavak|      8.7|2020-10-01|E-commerce & dire...|DST Global, SoftB...|            MEX|     484|Central America|Latin America and...|North America|Latin America and...|        Mexico_Kavak|      [Mexico, Kavak]|          Mexico|           Kavak|\n",
      "|  Nigeria|            Opay|      2.0|2021-08-23|             Fintech|Sequoia Capital C...|            NGA|     566| Western Africa|  Sub-Saharan Africa|       Africa|  Sub-Saharan Africa|        Nigeria_Opay|      [Nigeria, Opay]|         Nigeria|         Nigeria|\n",
      "|  Nigeria|            Opay|      2.0|2021-08-23|             Fintech|Sequoia Capital C...|            NGA|     566| Western Africa|  Sub-Saharan Africa|       Africa|  Sub-Saharan Africa|        Nigeria_Opay|      [Nigeria, Opay]|         Nigeria|            Opay|\n",
      "+---------+----------------+---------+----------+--------------------+--------------------+---------------+--------+---------------+--------------------+-------------+--------------------+--------------------+---------------------+----------------+----------------+\n",
      "only showing top 20 rows\n",
      "\n"
     ]
    }
   ],
   "source": [
    "(\n",
    "    df.join(df_country, on='Country')\n",
    "    .withColumn('region_test', F.coalesce('Region_2', 'Region_1', F.lit('NA')))\n",
    "    .withColumn('country_company', F.concat_ws('_', 'country','company'))\n",
    "    .withColumn('country_company_split', F.split('country_company', '_'))\n",
    "    .filter(F.col('Region_2').isNotNull())\n",
    "    .withColumn('country_recovery', F.col('country_company_split').getItem(0))\n",
    "    .withColumn('exploded', F.explode('country_company_split'))\n",
    "    .show()\n",
    ")"
   ]
  },
  {
   "cell_type": "markdown",
   "metadata": {
    "id": "UMvi8rxBQhYj"
   },
   "source": [
    "## DataType-specific funtions\n",
    "\n",
    "Please refer to [this link](https://sparkbyexamples.com/) to see the functions by data type (Spark SQL Functions)."
   ]
  },
  {
   "cell_type": "markdown",
   "metadata": {
    "id": "zL8ppJOxNq9j"
   },
   "source": [
    "## Date functions\n",
    "\n",
    "Please refer to [this link](https://sparkbyexamples.com/spark/spark-sql-date-and-time-functions/) to see all possible date/timestamp functions."
   ]
  },
  {
   "cell_type": "code",
   "execution_count": 47,
   "metadata": {
    "colab": {
     "base_uri": "https://localhost:8080/"
    },
    "executionInfo": {
     "elapsed": 418,
     "status": "ok",
     "timestamp": 1660199568929,
     "user": {
      "displayName": "Cainã Max Couto-Silva",
      "userId": "10965485795191366596"
     },
     "user_tz": 180
    },
    "id": "m0Zh--92VTev",
    "outputId": "7c674e56-0fa7-443b-e598-3117e5a67eca"
   },
   "outputs": [
    {
     "name": "stdout",
     "output_type": "stream",
     "text": [
      "+-----------------------------+-----------------+---------------------+--------------+\n",
      "|date_trunc(month, Date_Added)|month(Date_Added)|dayofyear(Date_Added)|current_date()|\n",
      "+-----------------------------+-----------------+---------------------+--------------+\n",
      "|          2021-11-01 00:00:00|               11|                  306|    2022-08-11|\n",
      "|          2021-11-01 00:00:00|               11|                  306|    2022-08-11|\n",
      "|          2017-06-01 00:00:00|                6|                  180|    2022-08-11|\n",
      "|          2018-12-01 00:00:00|               12|                  345|    2022-08-11|\n",
      "|          2015-03-01 00:00:00|                3|                   90|    2022-08-11|\n",
      "|          2021-02-01 00:00:00|                2|                   47|    2022-08-11|\n",
      "|          2019-10-01 00:00:00|               10|                  296|    2022-08-11|\n",
      "|          2020-10-01 00:00:00|               10|                  290|    2022-08-11|\n",
      "|          2021-03-01 00:00:00|                3|                   84|    2022-08-11|\n",
      "|          2015-05-01 00:00:00|                5|                  126|    2022-08-11|\n",
      "+-----------------------------+-----------------+---------------------+--------------+\n",
      "only showing top 10 rows\n",
      "\n"
     ]
    }
   ],
   "source": [
    "(\n",
    "  df\n",
    " .select(\n",
    "     F.date_trunc('month', 'Date_Added'),\n",
    "     F.month('Date_Added'),\n",
    "     F.dayofyear('Date_Added'),\n",
    "     F.lit(F.current_date())\n",
    "  )\n",
    " .show(10)\n",
    ")"
   ]
  },
  {
   "cell_type": "markdown",
   "metadata": {
    "id": "N-bAG12IVUm2"
   },
   "source": [
    "## Exemplos de perguntas"
   ]
  },
  {
   "cell_type": "markdown",
   "metadata": {
    "id": "u70ZYlBeUGM6"
   },
   "source": [
    "Quantos investidores distintos tem por continente-país? Ordene pela quantidade de investidores distintos de forma decrescente."
   ]
  },
  {
   "cell_type": "code",
   "execution_count": 48,
   "metadata": {
    "colab": {
     "base_uri": "https://localhost:8080/"
    },
    "executionInfo": {
     "elapsed": 1377,
     "status": "ok",
     "timestamp": 1660199570299,
     "user": {
      "displayName": "Cainã Max Couto-Silva",
      "userId": "10965485795191366596"
     },
     "user_tz": 180
    },
    "id": "MdPaT8m4PVVl",
    "outputId": "07cf8794-775f-40a0-9788-06e325a9e680"
   },
   "outputs": [
    {
     "name": "stdout",
     "output_type": "stream",
     "text": [
      "+-------------+--------------+-----------+\n",
      "|    Continent|       Country|n_investors|\n",
      "+-------------+--------------+-----------+\n",
      "|North America| United States|        717|\n",
      "|         Asia|         China|        311|\n",
      "|         Asia|         India|         91|\n",
      "|       Europe|United Kingdom|         81|\n",
      "|       Europe|       Germany|         57|\n",
      "|         Asia|        Israel|         53|\n",
      "|       Europe|        France|         46|\n",
      "|North America|        Canada|         42|\n",
      "|         Asia|     Singapore|         33|\n",
      "|South America|        Brazil|         33|\n",
      "|         Asia|   South Korea|         22|\n",
      "|         Asia|         Japan|         18|\n",
      "|         Asia|     Hong Kong|         18|\n",
      "|         Asia|     Indonesia|         15|\n",
      "|      Oceania|     Australia|         14|\n",
      "|       Europe|        Sweden|         11|\n",
      "|       Europe|   Netherlands|         10|\n",
      "|North America|        Mexico|         10|\n",
      "|       Europe|   Switzerland|          9|\n",
      "|       Europe|        Norway|          9|\n",
      "+-------------+--------------+-----------+\n",
      "only showing top 20 rows\n",
      "\n"
     ]
    }
   ],
   "source": [
    "(\n",
    "  df\n",
    " .join(df_country, on='Country')\n",
    " .withColumn('investors', F.split('Select_investors', ','))\n",
    " .withColumn('investors', F.explode('investors'))\n",
    " .groupby('Continent','Country')\n",
    " .agg(F.countDistinct('investors').alias('n_investors'))\n",
    " .orderBy(F.desc('n_investors'))\n",
    " .show()\n",
    ")"
   ]
  }
 ],
 "metadata": {
  "colab": {
   "authorship_tag": "ABX9TyMbReRefI9Gzmv6x/eBCadF",
   "collapsed_sections": [],
   "name": "spark_sql.ipynb",
   "provenance": [],
   "toc_visible": true
  },
  "kernelspec": {
   "display_name": "Python 3 (ipykernel)",
   "language": "python",
   "name": "python3"
  },
  "language_info": {
   "codemirror_mode": {
    "name": "ipython",
    "version": 3
   },
   "file_extension": ".py",
   "mimetype": "text/x-python",
   "name": "python",
   "nbconvert_exporter": "python",
   "pygments_lexer": "ipython3",
   "version": "3.9.12"
  }
 },
 "nbformat": 4,
 "nbformat_minor": 4
}
